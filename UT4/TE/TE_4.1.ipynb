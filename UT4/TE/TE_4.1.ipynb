{
 "cells": [
  {
   "cell_type": "markdown",
   "metadata": {},
   "source": [
    "# Boletin 4.1\n",
    "\n",
    "### Ejercicios XML y JSON\n",
    "\n",
    "**Recursos**\n",
    "Para la realización de estos ejercicios estos son los recursos disponibles:\n",
    "- [Chuleta XML](http://suarezdefigueroa.es:8080/pluginfile.php/35822/mod_resource/content/3/chuleta-de-xml.pdf)\n",
    "- [XML: Sintaxis y caracteristicas](http://suarezdefigueroa.es:8080/mod/resource/view.php?id=28021)\n",
    "- [Chuleta XML](http://suarezdefigueroa.es:8080/mod/resource/view.php?id=28032)"
   ]
  },
  {
   "cell_type": "markdown",
   "metadata": {},
   "source": [
    "### Ejercicio 1\n",
    "\n",
    "Crea un documento XML que represente una factura, conteniendo la información:\n",
    "\n",
    "\n",
    "- Número\n",
    "- Fecha\n",
    "- Nombre del cliente (separando nombre y apellidos)\n",
    "- Dirección del cliente (incluye cada parte de la dirección como elemento individual)\n",
    "- Productos que incluye (al menos 3)\n",
    "  - número de unidades\n",
    "  - precio unidad\n",
    "  - subtotal\n",
    "  - iva aplicado\n",
    "- total\n",
    "- Base\n",
    "- Iva-total\n",
    "- Total"
   ]
  },
  {
   "cell_type": "code",
   "execution_count": null,
   "metadata": {},
   "outputs": [],
   "source": []
  },
  {
   "cell_type": "markdown",
   "metadata": {},
   "source": [
    "### Ejercicio 2\n",
    "\n",
    "Convierte el XML generado en el ejercicio anterior en JSON."
   ]
  },
  {
   "cell_type": "code",
   "execution_count": null,
   "metadata": {},
   "outputs": [],
   "source": []
  },
  {
   "cell_type": "markdown",
   "metadata": {},
   "source": [
    "### Ejercicio 3\n",
    "\n",
    "Crea un documento XML que contenga tu ficha personal. Decide tú mismo qué estructura, elementos y atributos utilizar."
   ]
  },
  {
   "cell_type": "code",
   "execution_count": null,
   "metadata": {},
   "outputs": [],
   "source": []
  },
  {
   "cell_type": "markdown",
   "metadata": {},
   "source": [
    "### Ejercico 4\n",
    "\n",
    "Estructura en XML el siguiente texto\n",
    "\n",
    "```text\n",
    "Pedido para el señor Juan Delgado Martínez. El pedido se compone de una bicicleta A2023. A entregar en la calle Barco 4, tercer piso, letra A, el día 19-5-2000.\n",
    "```"
   ]
  },
  {
   "cell_type": "code",
   "execution_count": null,
   "metadata": {},
   "outputs": [],
   "source": []
  },
  {
   "cell_type": "markdown",
   "metadata": {},
   "source": [
    "### Ejericio 5\n",
    "\n",
    "Estructura en XML la siguiente tabla.\n",
    "\n",
    "![Tabla](./res/te4.1_e5.png)\n"
   ]
  },
  {
   "cell_type": "code",
   "execution_count": null,
   "metadata": {},
   "outputs": [],
   "source": []
  },
  {
   "cell_type": "markdown",
   "metadata": {},
   "source": [
    "### Ejericio 6\n",
    "\n",
    "Estructura los componentes de un email en XML.<br>\n",
    "\n",
    "Los elementos que debe tener son los siguientes:\n",
    "- Destinatario/s,  con Copia (CC), con Copia Oculta (CCO)\n",
    "- Remitente\n",
    "- Asunto\n",
    "- Texto\n",
    "- Adjuntos\n",
    "  - Nombre\n",
    "  - Tamaño en KB\n",
    "  - Extensión"
   ]
  },
  {
   "cell_type": "code",
   "execution_count": null,
   "metadata": {
    "vscode": {
     "languageId": "xml"
    }
   },
   "outputs": [],
   "source": []
  },
  {
   "cell_type": "markdown",
   "metadata": {},
   "source": [
    "### Ejericio 7\n",
    "\n",
    "Convierte el siguiente documento JSON a XML.\n",
    "\n",
    "![Tabla](./res/te4.1_e7.png)"
   ]
  },
  {
   "cell_type": "code",
   "execution_count": null,
   "metadata": {
    "vscode": {
     "languageId": "xml"
    }
   },
   "outputs": [],
   "source": []
  },
  {
   "cell_type": "markdown",
   "metadata": {},
   "source": [
    "### Ejercicio 8\n",
    "\n",
    "Estructura en XML los siguientes datos:\n",
    "\n",
    "![Tabla](./res/te4.1_e8.png)"
   ]
  },
  {
   "cell_type": "code",
   "execution_count": null,
   "metadata": {
    "vscode": {
     "languageId": "xml"
    }
   },
   "outputs": [],
   "source": []
  },
  {
   "cell_type": "markdown",
   "metadata": {},
   "source": [
    "### Ejercicio 9\n",
    "\n",
    "Estructura en XML los siguientes datos:<br>\n",
    "*Importante agrupar los niveles en las jerarquías adecuadas en el XML*\n",
    "\n",
    "![Tabla](./res/te4.1_e9.png)"
   ]
  },
  {
   "cell_type": "code",
   "execution_count": null,
   "metadata": {
    "vscode": {
     "languageId": "xml"
    }
   },
   "outputs": [],
   "source": []
  },
  {
   "cell_type": "markdown",
   "metadata": {},
   "source": [
    "### Ejercicio 10\n",
    "\n",
    "Convierte el documento XML generado en el anterior ejercicio en JSON."
   ]
  },
  {
   "cell_type": "code",
   "execution_count": null,
   "metadata": {
    "vscode": {
     "languageId": "xml"
    }
   },
   "outputs": [],
   "source": []
  }
 ],
 "metadata": {
  "language_info": {
   "name": "python"
  }
 },
 "nbformat": 4,
 "nbformat_minor": 2
}
