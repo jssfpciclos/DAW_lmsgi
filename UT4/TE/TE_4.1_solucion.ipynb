{
 "cells": [
  {
   "cell_type": "markdown",
   "metadata": {},
   "source": [
    "# Boletin 4.1\n",
    "\n",
    "### Ejercicios XML y JSON\n",
    "\n",
    "**Recursos**\n",
    "Para la realización de estos ejercicios estos son los recursos disponibles:\n",
    "- [Chuleta XML](http://suarezdefigueroa.es:8080/pluginfile.php/35822/mod_resource/content/3/chuleta-de-xml.pdf)\n",
    "- [XML: Sintaxis y caracteristicas](http://suarezdefigueroa.es:8080/mod/resource/view.php?id=28021)\n",
    "- [Chuleta XML](http://suarezdefigueroa.es:8080/mod/resource/view.php?id=28032)"
   ]
  },
  {
   "cell_type": "markdown",
   "metadata": {},
   "source": [
    "### Ejercicio 1\n",
    "\n",
    "Crea un documento XML que represente una factura, conteniendo la información:\n",
    "\n",
    "\n",
    "- Número\n",
    "- Fecha\n",
    "- Nombre del cliente (separando nombre y apellidos)\n",
    "- Dirección del cliente (incluye cada parte de la dirección como elemento individual)\n",
    "- Productos que incluye (al menos 3)\n",
    "  - número de unidades\n",
    "  - precio unidad\n",
    "  - subtotal\n",
    "  - iva aplicado\n",
    "- total\n",
    "- Base\n",
    "- Iva-total\n",
    "- Total"
   ]
  },
  {
   "cell_type": "markdown",
   "metadata": {},
   "source": [
    "```xml\n",
    "<?xml version=\"1.0\" encoding=\"UTF-8\"?>\n",
    "<facturas>\n",
    "  <factura>\n",
    "    <n_factura>345879</n_factura>\n",
    "    <fecha>\n",
    "      <dia>20</dia>\n",
    "      <mes>09</mes>\n",
    "      <año>2022</año>\n",
    "    </fecha>\n",
    "    <nombre_cliente>\n",
    "      <nombre>Francisco</nombre>\n",
    "      <apellido1>Sánchez</apellido1>\n",
    "      <apellido2>Ruiz</apellido2>\n",
    "    </nombre_cliente>\n",
    "    <direccion>\n",
    "      <via>calle</via>\n",
    "      <nombre>Nueva</nombre>\n",
    "      <numero>6</numero>\n",
    "      <piso>2</piso>\n",
    "      <letra>C</letra>\n",
    "      <poblacion>Zafra</poblacion>\n",
    "      <codigo_postal>06300</codigo_postal>\n",
    "      <provincia>Badajoz</provincia>\n",
    "      <pais>España</pais>\n",
    "    </direccion>\n",
    "    <productos>\n",
    "      <producto>\n",
    "        <numero_unidades>3</numero_unidades>\n",
    "        <precio_unidad>4.60</precio_unidad>\n",
    "        <subtotal>13.80</subtotal>\n",
    "        <iva_aplicado tipo=21>2.90</iva_aplicado>\n",
    "        <total>16.70</total>\n",
    "      </producto>\n",
    "      <producto>\n",
    "        <numero_unidades>6</numero_unidades>\n",
    "        <precio_unidad>5.20</precio_unidad>\n",
    "        <subtotal>31.20</subtotal>\n",
    "        <iva_aplicado tipo=21>6.55</iva_aplicado>\n",
    "        <total>37.75</total>\n",
    "      </producto>\n",
    "      <producto>\n",
    "        <numero_unidades>50</numero_unidades>\n",
    "        <precio_unida>1.25</precio_unida>\n",
    "        <subtotal>62.50</subtotal>\n",
    "        <iva_aplicado tipo=21>13.12</iva_aplicado>\n",
    "        <total>75.62</total>\n",
    "      </producto>\n",
    "      <total>107.50</total>\n",
    "    </productos>\n",
    "    <base>161.95</base>\n",
    "    <iva_total tipo=21>34.00</iva_total>\n",
    "    <total>195.95</total>\n",
    "  </factura>\n",
    "</facturas>\n",
    "```"
   ]
  },
  {
   "cell_type": "markdown",
   "metadata": {},
   "source": [
    "### Ejercicio 2\n",
    "\n",
    "Convierte el XML generado en el ejercicio anterior en JSON."
   ]
  },
  {
   "cell_type": "code",
   "execution_count": null,
   "metadata": {},
   "outputs": [],
   "source": [
    "{\n",
    "\t\"facturas\": {\n",
    "\t\t\"factura\": {\n",
    "\t\t\t\"n_factura\": \"345879\",\n",
    "\t\t\t\"fecha\": {\n",
    "\t\t\t\t\"dia\": \"20\",\n",
    "\t\t\t\t\"mes\": \"09\",\n",
    "\t\t\t\t\"año\": \"2022\"\n",
    "\t\t\t},\n",
    "\t\t\t\"nombre_cliente\": {\n",
    "\t\t\t\t\"nombre\": \"Francisco\",\n",
    "\t\t\t\t\"apellido1\": \"Sánchez\",\n",
    "\t\t\t\t\"apellido2\": \"Ruiz\"\n",
    "\t\t\t},\n",
    "\t\t\t\"direccion\": {\n",
    "\t\t\t\t\"via\": \"calle\",\n",
    "\t\t\t\t\"nombre\": \"Nueva\",\n",
    "\t\t\t\t\"numero\": \"6\",\n",
    "\t\t\t\t\"piso\": \"2\",\n",
    "\t\t\t\t\"letra\": \"C\",\n",
    "\t\t\t\t\"poblacion\": \"Zafra\",\n",
    "\t\t\t\t\"codigo_postal\": \"06300\",\n",
    "\t\t\t\t\"provincia\": \"Badajoz\",\n",
    "\t\t\t\t\"pais\": \"España\"\n",
    "\t\t\t},\n",
    "\t\t\t\"productos\": {\n",
    "\t\t\t\t\"producto\": [\n",
    "\t\t\t\t\t{\n",
    "\t\t\t\t\t\t\"numero_unidades\": 3,\n",
    "\t\t\t\t\t\t\"precio_unidad\": 4.60,\n",
    "\t\t\t\t\t\t\"subtotal\": 13.80,\n",
    "\t\t\t\t\t\t\"iva_aplicado\": {\n",
    "\t\t\t\t\t\t\t\"_tipo\": 21,\n",
    "\t\t\t\t\t\t\t\"valor\": 2.90\n",
    "\t\t\t\t\t\t},\n",
    "\t\t\t\t\t\t\"total\": 16.70\n",
    "\t\t\t\t\t},\n",
    "\t\t\t\t\t{\n",
    "\t\t\t\t\t\t\"numero_unidades\": 6,\n",
    "\t\t\t\t\t\t\"precio_unidad\": 5.20,\n",
    "\t\t\t\t\t\t\"subtotal\": 31.20,\n",
    "\t\t\t\t\t\t\"iva_aplicado\": {\n",
    "\t\t\t\t\t\t\t\"_tipo\": 21,\n",
    "\t\t\t\t\t\t\t\"valor\": 6.55\n",
    "\t\t\t\t\t\t},\n",
    "\t\t\t\t\t\t\"total\": 37.75\n",
    "\t\t\t\t\t},\n",
    "\t\t\t\t\t{\n",
    "\t\t\t\t\t\t\"numero_unidades\": 50,\n",
    "\t\t\t\t\t\t\"precio_unida\": 1.25,\n",
    "\t\t\t\t\t\t\"subtotal\": 62.50,\n",
    "\t\t\t\t\t\t\"iva_aplicado\": {\n",
    "\t\t\t\t\t\t\t\"_tipo\": 21,\n",
    "\t\t\t\t\t\t\t\"valor\": 13.12\n",
    "\t\t\t\t\t\t},\n",
    "\t\t\t\t\t\t\"total\": 75.62\n",
    "\t\t\t\t\t}\n",
    "\t\t\t\t],\n",
    "\t\t\t\t\"total\": 107.50\n",
    "\t\t\t},\n",
    "\t\t\t\"base\": 161.95,\n",
    "\t\t\t\"iva_total\": {\n",
    "\t\t\t\t\"_tipo\": 21,\n",
    "\t\t\t\t\"valor\": 34.00\n",
    "\t\t\t},\n",
    "\t\t\t\"total\": 195.95\n",
    "\t\t}\n",
    "\t}\n",
    "}"
   ]
  },
  {
   "cell_type": "markdown",
   "metadata": {},
   "source": [
    "### Ejercicio 3\n",
    "\n",
    "Crea un documento XML que contenga tu ficha personal. Decide tú mismo qué estructura, elementos y atributos utilizar."
   ]
  },
  {
   "cell_type": "markdown",
   "metadata": {},
   "source": [
    "```xml\n",
    "<?xml version=\"1.0\" encoding=\"UTF-8\"?>\n",
    "<fichas>\n",
    "  <ficha_personal>\n",
    "    <dni letra=\"A\">01234567</dni>\n",
    "    <nombre_completo>\n",
    "      <nombre>Juan Gabriel</nombre>\n",
    "      <apellido nivel=\"1\">Rivera</apellido>\n",
    "      <apellido nivel=\"2\">Cestero</apellido>\n",
    "    </nombre_completo>\n",
    "    <direccion tipoVia=\"Calle\">\n",
    "      <nombre>San Roque</nombre>\n",
    "      <numero piso=\"6\" letra=\"B\">3</numero>\n",
    "      <poblacion codigoPostal=\"06230\">Los Santos de Maimona</poblacion>\n",
    "      <pais provincia=\"Badajoz\">España</pais>\n",
    "    </direccion>\n",
    "    <datos_contacto>\n",
    "      <telefonos>\n",
    "        <telefono tipo=\"fijo\" prefijo=\"924\">123456</telefono>\n",
    "        <telefono tipo=\"movil\">123456789</telefono>\n",
    "        <telefono tipo=\"trabajo\">987654321</telefono>\n",
    "      </telefonos>\n",
    "      <correos_electronicos>\n",
    "        <correo tipo=\"personal\">juanpersonal@gmail.com</correo>\n",
    "        <correo tipo=\"trabajo\">juantrabajo@gmail.com</correo>\n",
    "      </correos_electronicos>\n",
    "    </datos_contacto>\n",
    "    <aficiones>\n",
    "      <aficion>\n",
    "        <descripcion nivel=\"medio/bajo\">fotografia</descripcion>\n",
    "      </aficion>\n",
    "      <aficion>\n",
    "        <descripcion nivel=\"medio\">impresion3d</descripcion>\n",
    "      </aficion>\n",
    "      <aficion>\n",
    "        <descripcion nivel=\"medio/alto\">ciclismo de montaña</descripcion>\n",
    "      </aficion>\n",
    "    </aficiones>\n",
    "    <estudios>\n",
    "      <estudio>\n",
    "        <titulo año=\"2023\" oficial=\"si\">grado medio sistemasmicroinformaticos y redes</titulo>\n",
    "      </estudio>\n",
    "      <estudio>\n",
    "        <titulo año=\"2012\" oficial=\"si\">titulo enseñanza secundaria obligatoria</titulo>\n",
    "      </estudio>\n",
    "      <estudio>\n",
    "        <titulo año=\"2020\" oficial=\"no\">creacion e impresion 3D</titulo>\n",
    "      </estudio>\n",
    "    </estudios>\n",
    "    <aptitudes>\n",
    "      <aptitud>\n",
    "        <nombre nivel=\"medio\">lengua inglesa</nombre>\n",
    "      </aptitud>\n",
    "      <aptitud>\n",
    "        <nombre nivel=\"medio\">lenguaje java</nombre>\n",
    "      </aptitud>\n",
    "      <aptitud>\n",
    "        <nombre nivel=\"medio/alto\">HTML y CSS</nombre>\n",
    "      </aptitud>\n",
    "    </aptitudes>\n",
    "  </ficha_personal>\n",
    "</fichas>\n",
    "```"
   ]
  },
  {
   "cell_type": "markdown",
   "metadata": {},
   "source": [
    "### Ejercico 4\n",
    "\n",
    "Estructura en XML el siguiente texto\n",
    "\n",
    "```text\n",
    "Pedido para el señor Juan Delgado Martínez. El pedido se compone de una bicicleta A2023. A entregar en la calle Barco 4, tercer piso, letra A, el día 19-5-2000.\n",
    "```"
   ]
  },
  {
   "cell_type": "code",
   "execution_count": null,
   "metadata": {
    "vscode": {
     "languageId": "xml"
    }
   },
   "outputs": [],
   "source": [
    "<?xml version=\"1.0\" encoding=\"UTF-8\"?>\n",
    "<Pedido>\n",
    "  <Cliente>\n",
    "    <Nombre>Juan</Nombre>\n",
    "    <Apellidos>Delgado Martínez</Apellidos>\n",
    "    <Direccion>\n",
    "      <Calle>Barco</Calle>\n",
    "      <Numero>4</Numero>\n",
    "      <Piso>3</Piso>\n",
    "      <Letra>A</Letra>\n",
    "    </Direccion>\n",
    "  </Cliente>\n",
    "  <Fecha_Entrega>19/05/2000</Fecha_Entrega>\n",
    "  <Productos>\n",
    "    <Producto>\n",
    "      <Nombre_Producto>Bicicleta</Nombre_Producto>\n",
    "      <Modelo>A2023</Modelo>\n",
    "    </Producto>\n",
    "  </Productos>\n",
    "</Pedido>"
   ]
  },
  {
   "cell_type": "markdown",
   "metadata": {},
   "source": [
    "### Ejericio 5\n",
    "\n",
    "Estructura en XML la siguiente tabla.\n",
    "\n",
    "![Tabla](./res/te4.1_e5.png)\n"
   ]
  },
  {
   "cell_type": "code",
   "execution_count": null,
   "metadata": {
    "vscode": {
     "languageId": "xml"
    }
   },
   "outputs": [],
   "source": [
    "<?xml version=\"1.0\" encoding=\"UTF-8\"?>\n",
    "<CDs_Oferta>\n",
    "  <CD>\n",
    "    <Titulo>Still got the blues</Titulo>\n",
    "    <Artista>Gary Moore</Artista>\n",
    "    <Pais>UK</Pais>\n",
    "    <Discografica>Virgin records</Discografica>\n",
    "    <Precio>10.20</Precio>\n",
    "    <Año_Publicacion>1990</Año_Publicacion>\n",
    "  </CD>\n",
    "  <CD>\n",
    "    <Titulo>One night only</Titulo>\n",
    "    <Artista>Bee Gees</Artista>\n",
    "    <Pais>UK</Pais>\n",
    "    <Discografica>Polydor</Discografica>\n",
    "    <Precio>10.90</Precio>\n",
    "    <Año_Publicacion>1998</Año_Publicacion>\n",
    "  </CD>\n",
    "  <CD>\n",
    "    <Titulo>When a man loves a woman</Titulo>\n",
    "    <Artista>Percy Sledge</Artista>\n",
    "    <Pais>USA</Pais>\n",
    "    <Discografica>Atlantic</Discografica>\n",
    "    <Precio>8.70</Precio>\n",
    "    <Año_Publicacion>1987</Año_Publicacion>\n",
    "  </CD>\n",
    "  <CD>\n",
    "    <Titulo>Big Willie style</Titulo>\n",
    "    <Artista>Will Smith</Artista>\n",
    "    <Pais>USA</Pais>\n",
    "    <Discografica>Columbia</Discografica>\n",
    "    <Precio>9.90</Precio>\n",
    "    <Año_Publicacion>1987</Año_Publicacion>\n",
    "  </CD>\n",
    "  <CD>\n",
    "    <Titulo>La canción de Juan Perro</Titulo>\n",
    "    <Artista>Radio Futura</Artista>\n",
    "    <Pais>España</Pais>\n",
    "    <Discografica>Sony Music-Ariola</Discografica>\n",
    "    <Precio>9.90</Precio>\n",
    "    <Año_Publicacion>1987</Año_Publicacion>\n",
    "  </CD>\n",
    "  <CD>\n",
    "    <Titulo>The dock of the bay</Titulo>\n",
    "    <Artista>Otis Redding</Artista>\n",
    "    <Pais>USA</Pais>\n",
    "    <Discografica>Atlantic</Discografica>\n",
    "    <Precio>7.90</Precio>\n",
    "    <Año_Publicacion>1987</Año_Publicacion>\n",
    "  </CD>\n",
    "</CDs_Oferta>"
   ]
  },
  {
   "cell_type": "markdown",
   "metadata": {},
   "source": [
    "### Ejericio 6\n",
    "\n",
    "Estructura los componentes de un email en XML.<br>\n",
    "\n",
    "Los elementos que debe tener son los siguientes:\n",
    "- Destinatario/s,  con Copia (CC), con Copia Oculta (CCO)\n",
    "- Remitente\n",
    "- Asunto\n",
    "- Texto\n",
    "- Adjuntos\n",
    "  - Nombre\n",
    "  - Tamaño en KB\n",
    "  - Extensión"
   ]
  },
  {
   "cell_type": "code",
   "execution_count": null,
   "metadata": {
    "vscode": {
     "languageId": "xml"
    }
   },
   "outputs": [],
   "source": []
  },
  {
   "cell_type": "markdown",
   "metadata": {},
   "source": [
    "### Ejericio 7\n",
    "\n",
    "Convierte el siguiente documento JSON a XML.\n",
    "\n",
    "![Tabla](./res/te4.1_e7.png)"
   ]
  },
  {
   "cell_type": "code",
   "execution_count": null,
   "metadata": {
    "vscode": {
     "languageId": "xml"
    }
   },
   "outputs": [],
   "source": []
  },
  {
   "cell_type": "markdown",
   "metadata": {},
   "source": [
    "### Ejercicio 8\n",
    "\n",
    "Estructura en XML los siguientes datos:\n",
    "\n",
    "![Tabla](./res/te4.1_e8.png)"
   ]
  },
  {
   "cell_type": "code",
   "execution_count": null,
   "metadata": {
    "vscode": {
     "languageId": "xml"
    }
   },
   "outputs": [],
   "source": []
  },
  {
   "cell_type": "markdown",
   "metadata": {},
   "source": [
    "### Ejercicio 9\n",
    "\n",
    "Estructura en XML los siguientes datos:<br>\n",
    "*Importante agrupar los niveles en las jerarquías adecuadas en el XML*\n",
    "\n",
    "![Tabla](./res/te4.1_e9.png)"
   ]
  },
  {
   "cell_type": "code",
   "execution_count": null,
   "metadata": {
    "vscode": {
     "languageId": "xml"
    }
   },
   "outputs": [],
   "source": []
  },
  {
   "cell_type": "markdown",
   "metadata": {},
   "source": [
    "### Ejercicio 10\n",
    "\n",
    "Convierte el documento XML generado en el anterior ejercicio en JSON."
   ]
  },
  {
   "cell_type": "code",
   "execution_count": null,
   "metadata": {
    "vscode": {
     "languageId": "xml"
    }
   },
   "outputs": [],
   "source": []
  }
 ],
 "metadata": {
  "language_info": {
   "name": "python"
  }
 },
 "nbformat": 4,
 "nbformat_minor": 2
}
