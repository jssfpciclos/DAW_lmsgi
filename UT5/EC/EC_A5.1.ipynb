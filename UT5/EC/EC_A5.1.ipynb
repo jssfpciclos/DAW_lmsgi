{
 "cells": [
  {
   "cell_type": "markdown",
   "metadata": {},
   "source": [
    "# Ejercicios clase. A5.1. XSD Esquema"
   ]
  },
  {
   "cell_type": "markdown",
   "metadata": {},
   "source": [
    "### Ejercicio 1\n",
    "\n",
    "Escribir un XML Schema para el siguiente documento XML, e incluir los cambios necesarios en el mismo para referenciar al esquema creado.<br>\n",
    "Se sabe que todos los elementos hijos del elemento “nota” son obligatorios y deben aparecer solo una vez.\n",
    "\n",
    "```xml\t\n",
    "<?xml version=\"1.0\" encoding=\"UTF-8\"?>\n",
    "<nota>\n",
    "   <para>Pedro</para>\n",
    "   <de>Laura</de>\n",
    "   <titulo>Recordatorio</titulo>\n",
    "   <contenido>A las 7:00 pm en la puerta del teatro</contenido>\n",
    "</nota>\n",
    "```"
   ]
  },
  {
   "cell_type": "code",
   "execution_count": null,
   "metadata": {
    "vscode": {
     "languageId": "xml"
    }
   },
   "outputs": [],
   "source": []
  },
  {
   "cell_type": "markdown",
   "metadata": {},
   "source": [
    "### Ejercicio 2\n",
    "\n",
    "Crea un XML Schema para el siguiente documento XML.\n",
    "\n",
    "```xml\n",
    "<person>\n",
    "  <name>John Doe</name>\n",
    "  <age>25</age>\n",
    "  <city>New York</city>\n",
    "</person>\n",
    "```"
   ]
  },
  {
   "cell_type": "code",
   "execution_count": null,
   "metadata": {
    "vscode": {
     "languageId": "xml"
    }
   },
   "outputs": [],
   "source": []
  },
  {
   "cell_type": "markdown",
   "metadata": {},
   "source": [
    "### Ejercicio 3\n",
    "\n",
    "Crea un XSD esquema para una receta básica con unos ingredientes listados en orden\n",
    "\n",
    "```xml\n",
    "<recipe>\n",
    "  <title>Pancakes</title>\n",
    "  <ingredient>Flour</ingredient>\n",
    "  <ingredient>Eggs</ingredient>\n",
    "  <ingredient>Milk</ingredient>\n",
    "</recipe>\n",
    "```"
   ]
  },
  {
   "cell_type": "code",
   "execution_count": null,
   "metadata": {
    "vscode": {
     "languageId": "xml"
    }
   },
   "outputs": [],
   "source": []
  },
  {
   "cell_type": "markdown",
   "metadata": {},
   "source": [
    "### Ejercicio 4\n",
    "\n",
    "Extiende el esquema anterior para permitir un número de intredientes variable (1 a 5)"
   ]
  },
  {
   "cell_type": "code",
   "execution_count": null,
   "metadata": {
    "vscode": {
     "languageId": "xml"
    }
   },
   "outputs": [],
   "source": []
  },
  {
   "cell_type": "markdown",
   "metadata": {},
   "source": [
    "### Ejercicio 5.  (Elementos anidados)\n",
    "\n",
    "Construye un XSD Esquema para un pedido simple de compra que incluye información de cliente y detalle sobre los productos comprados. El pedido debe incluir al menos un producto.\n",
    "\n",
    "```xml\n",
    "<order>\n",
    "  <customer>\n",
    "    <name>John Doe</name>\n",
    "    <email>john@example.com</email>\n",
    "  </customer>\n",
    "  <item>\n",
    "    <name>Laptop</name>\n",
    "    <quantity>2</quantity>\n",
    "    <price>899.99</price>\n",
    "  </item>\n",
    "</order>\n",
    "```"
   ]
  },
  {
   "cell_type": "code",
   "execution_count": null,
   "metadata": {
    "vscode": {
     "languageId": "xml"
    }
   },
   "outputs": [],
   "source": []
  },
  {
   "cell_type": "markdown",
   "metadata": {},
   "source": [
    "### Ejercicio 6. (Elemento choice)\n",
    "\n",
    "Construye un XSD Esquema para representar un documento con una persona con un email o un telefono de contacto, pero no ambos.\n",
    "\n",
    "```xml\n",
    "<person>\n",
    "  <name>Alice</name>\n",
    "  <email>alice@email.com</email>\n",
    "</person>\n",
    "```\n",
    "o\n",
    "\n",
    "```xml\n",
    "<person>\n",
    "  <name>Bob</name>\n",
    "  <phone>555-1234</phone>\n",
    "</person>\n",
    "```"
   ]
  },
  {
   "cell_type": "code",
   "execution_count": null,
   "metadata": {
    "vscode": {
     "languageId": "xml"
    }
   },
   "outputs": [],
   "source": []
  },
  {
   "cell_type": "markdown",
   "metadata": {},
   "source": [
    "### Ejercicio 7. (Valores por defecto)\n",
    "\n",
    "Construye un XSD para representar un fichero de configuración donde los elementos son opcionales y tienen valor por defecto.\n",
    "- Language: en\n",
    "- Theme: light\n",
    "\n",
    "```xml\n",
    "<config>\n",
    "  <language>en</language>\n",
    "  <theme>light</theme>\n",
    "</config>\n",
    "```"
   ]
  },
  {
   "cell_type": "code",
   "execution_count": null,
   "metadata": {
    "vscode": {
     "languageId": "xml"
    }
   },
   "outputs": [],
   "source": []
  },
  {
   "cell_type": "markdown",
   "metadata": {},
   "source": [
    "### Ejercicio 8\n",
    "\n",
    "Crea un XSD Esquema para una agenda que permita la siguiente estructura:\n",
    "\n",
    "```xml\n",
    "<addressBook>\n",
    "  <contact>\n",
    "    <name>Alice</name>\n",
    "    <phone>123-456-7890</phone>\n",
    "    <email>alice@email.com</email>\n",
    "  </contact>\n",
    "  <contact>\n",
    "    <name>Bob</name>\n",
    "    <phone>987-654-3210</phone>\n",
    "    <email>bob@email.com</email>\n",
    "  </contact>\n",
    "</addressBook>\n",
    "```"
   ]
  }
 ],
 "metadata": {
  "language_info": {
   "name": "python"
  }
 },
 "nbformat": 4,
 "nbformat_minor": 2
}
