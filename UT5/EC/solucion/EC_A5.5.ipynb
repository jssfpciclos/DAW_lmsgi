{
 "cells": [
  {
   "cell_type": "markdown",
   "metadata": {},
   "source": [
    "# Ejercicios clase resueltos. A5.5\n",
    "\n",
    "### Ejercicios XQuery\n",
    "\n",
    "**Entrega**\n",
    "\n",
    "No hay que entregar nada. Se valorará positivamente la realización de los ejercicios y subida al repositorio del alumno. \n",
    "\n",
    "**Recursos**\n",
    "- Apuntes: Para la realización de estos ejercicios utilizar la documentación colgada en el aula virtual (moodle) de la asignatura.\n",
    "- [XML base ejercicio](../TE/res/bailes_xquery.xml):  Utilizar este fichero XML para realizar las consultas.\n",
    "  \n",
    "**Soluciones**\n",
    "- Las soluciones están disponibles en [aqui](https://www.ticarte.com/contenido/ejercicios-practicos-de-xquery)\n"
   ]
  },
  {
   "cell_type": "markdown",
   "metadata": {},
   "source": [
    "### Ejercicios"
   ]
  },
  {
   "cell_type": "markdown",
   "metadata": {},
   "source": [
    "### FLOWR Consultas"
   ]
  },
  {
   "cell_type": "markdown",
   "metadata": {
    "vscode": {
     "languageId": "xml"
    }
   },
   "source": [
    "1. Mostrar cada uno de los nombres de los bailes con la etiqueta \"losbailes\""
   ]
  },
  {
   "cell_type": "code",
   "execution_count": null,
   "metadata": {
    "vscode": {
     "languageId": "xpath"
    }
   },
   "outputs": [],
   "source": [
    "for $baile in /bailes/baile\n",
    "return <losbailes>{$baile/nombre/text()}</losbailes>"
   ]
  },
  {
   "cell_type": "code",
   "execution_count": null,
   "metadata": {
    "vscode": {
     "languageId": "xml"
    }
   },
   "outputs": [],
   "source": [
    "<losbailes>Tango</losbailes>\n",
    "<losbailes>Cha-cha-cha</losbailes>\n",
    "<losbailes>Rock</losbailes>\n",
    "<losbailes>Merengue</losbailes>\n",
    "<losbailes>Salsa</losbailes>\n",
    "<losbailes>Pasodoble</losbailes>"
   ]
  },
  {
   "cell_type": "markdown",
   "metadata": {},
   "source": [
    "2. Mostrar los nombres de los bailes seguidos con el número de plazas entre paréntesis, ambos dentro de la misma etiqueta \"losbailes\"."
   ]
  },
  {
   "cell_type": "code",
   "execution_count": null,
   "metadata": {
    "vscode": {
     "languageId": "xpath"
    }
   },
   "outputs": [],
   "source": [
    "for $baile in /bailes/baile\n",
    "return <losbailes>{$baile/nombre/text()} ({$baile/plazas/text()})</losbailes>"
   ]
  },
  {
   "cell_type": "code",
   "execution_count": null,
   "metadata": {
    "vscode": {
     "languageId": "xml"
    }
   },
   "outputs": [],
   "source": [
    "<losbailes>Tango (20)</losbailes>\n",
    "<losbailes>Cha-cha-cha (18)</losbailes>\n",
    "<losbailes>Rock (15)</losbailes>\n",
    "<losbailes>Merengue (12)</losbailes>\n",
    "<losbailes>Salsa (10)</losbailes>\n",
    "<losbailes>Pasodoble (8)</losbailes>"
   ]
  },
  {
   "cell_type": "markdown",
   "metadata": {},
   "source": [
    "3. Mostrar el nombre, profesor y la fecha de comienzo de los bailes que comiencen el mes de enero (utiliza para buscarlo la cadena de texto \"/1/\")."
   ]
  },
  {
   "cell_type": "code",
   "execution_count": null,
   "metadata": {
    "vscode": {
     "languageId": "xpath"
    }
   },
   "outputs": [],
   "source": [
    "for $baile in /bailes/baile\n",
    "where contains($baile/comienzo, \"/1/\")\n",
    "return \n",
    "   <baile>\n",
    "      {$baile/nombre} \n",
    "      {$baile/profesor}\n",
    "      {$baile/comienzo}\n",
    "   </baile>"
   ]
  },
  {
   "cell_type": "code",
   "execution_count": null,
   "metadata": {
    "vscode": {
     "languageId": "xml"
    }
   },
   "outputs": [],
   "source": [
    "<baile>\n",
    "  <nombre>Tango</nombre>\n",
    "  <profesor>Roberto Garcia</profesor>\n",
    "  <comienzo>1/1/2011</comienzo>\n",
    "</baile>\n",
    "<baile>\n",
    "  <nombre>Merengue</nombre>\n",
    "  <profesor>Jesus Lozano</profesor>\n",
    "  <comienzo>1/1/2011</comienzo>\n",
    "</baile>\n",
    "<baile>\n",
    "  <nombre>Pasodoble</nombre>\n",
    "  <profesor>Miriam Gutierrez</profesor>\n",
    "  <comienzo>1/1/2011</comienzo>\n",
    "</baile>"
   ]
  },
  {
   "cell_type": "markdown",
   "metadata": {},
   "source": [
    "4. Mostrar los nombres de los profesores eliminando los repetidos y acampañar cada nombre con todas las salas en la que da clase, ordénalos por nombre."
   ]
  },
  {
   "cell_type": "code",
   "execution_count": null,
   "metadata": {
    "vscode": {
     "languageId": "xpath"
    }
   },
   "outputs": [],
   "source": [
    "for $profesor in distinct-values(/bailes/baile/profesor)\n",
    "let $salas := /bailes/baile[profesor=$profesor]/sala\n",
    "order by $profesor\n",
    "return \n",
    "   <profesores>\n",
    "     <nombre>{$profesor}</nombre>\n",
    "     {$salas}\n",
    "   </profesores>"
   ]
  },
  {
   "cell_type": "code",
   "execution_count": null,
   "metadata": {
    "vscode": {
     "languageId": "xml"
    }
   },
   "outputs": [],
   "source": [
    "<profesores>\n",
    "  <nombre>Jesus Lozano</nombre>\n",
    "  <sala>2</sala>\n",
    "  <sala>2</sala>\n",
    "</profesores>\n",
    "<profesores>\n",
    "  <nombre>Laura Mendiola</nombre>\n",
    "  <sala>1</sala>\n",
    "</profesores>\n",
    "<profesores>\n",
    "  <nombre>Miriam Gutierrez</nombre>\n",
    "  <sala>1</sala>\n",
    "  <sala>1</sala>\n",
    "</profesores>\n",
    "<profesores>\n",
    "  <nombre>Roberto Garcia</nombre>\n",
    "  <sala>1</sala>\n",
    "</profesores>"
   ]
  },
  {
   "cell_type": "markdown",
   "metadata": {},
   "source": [
    "5. Mostrar la media de los precios de todos los bailes."
   ]
  },
  {
   "cell_type": "code",
   "execution_count": null,
   "metadata": {
    "vscode": {
     "languageId": "xpath"
    }
   },
   "outputs": [],
   "source": [
    "let $baile := /bailes/baile\n",
    "return <media>{avg($baile/precio)}</media>"
   ]
  },
  {
   "cell_type": "code",
   "execution_count": null,
   "metadata": {},
   "outputs": [],
   "source": [
    "<media>94</media>"
   ]
  },
  {
   "cell_type": "markdown",
   "metadata": {},
   "source": [
    "6. Mostrar la suma de los precios de los bailes de la sala 1."
   ]
  },
  {
   "cell_type": "code",
   "execution_count": null,
   "metadata": {
    "vscode": {
     "languageId": "xpath"
    }
   },
   "outputs": [],
   "source": [
    "let $baile := /bailes/baile[sala=1]\n",
    "return <total_sala_1>{sum($baile/precio)}</total_sala_1>"
   ]
  },
  {
   "cell_type": "code",
   "execution_count": null,
   "metadata": {
    "vscode": {
     "languageId": "xml"
    }
   },
   "outputs": [],
   "source": [
    "<total_sala_1>457</total_sala_1>"
   ]
  },
  {
   "cell_type": "markdown",
   "metadata": {},
   "source": [
    "7. Mostrar cuántas plazas en total oferta el profesor \"Jesus Lozano\"."
   ]
  },
  {
   "cell_type": "code",
   "execution_count": null,
   "metadata": {
    "vscode": {
     "languageId": "xpath"
    }
   },
   "outputs": [],
   "source": [
    "let $baile := /bailes/baile[profesor = \"Jesus Lozano\"]\n",
    "return <plazas>{sum($baile/plazas)}</plazas>"
   ]
  },
  {
   "cell_type": "code",
   "execution_count": null,
   "metadata": {
    "vscode": {
     "languageId": "xml"
    }
   },
   "outputs": [],
   "source": [
    "<plazas>22</plazas>"
   ]
  },
  {
   "cell_type": "markdown",
   "metadata": {},
   "source": [
    "8. Mostrar el dinero que ganaría la profesora \"Laura Mendiola\" si se completaran todas las plazas de su baile, sabiendo que sólo tiene un baile."
   ]
  },
  {
   "cell_type": "code",
   "execution_count": null,
   "metadata": {
    "vscode": {
     "languageId": "xpath"
    }
   },
   "outputs": [],
   "source": [
    "let $baile := /bailes/baile[profesor = \"Laura Mendiola\"]\n",
    "return $baile/plazas * $baile/precio"
   ]
  },
  {
   "cell_type": "code",
   "execution_count": null,
   "metadata": {},
   "outputs": [],
   "source": [
    "450"
   ]
  },
  {
   "cell_type": "markdown",
   "metadata": {},
   "source": [
    "9. Mostrar el dinero que ganaría la profesora \"Laura\" (no conocemos su apellido) si se completaran todas las plazas de su baile.."
   ]
  },
  {
   "cell_type": "code",
   "execution_count": null,
   "metadata": {
    "vscode": {
     "languageId": "xpath"
    }
   },
   "outputs": [],
   "source": [
    "for $baile in /bailes/baile\n",
    "where starts-with($baile/profesor, \"Laura\")\n",
    "return <beneficio>{$baile/plazas * $baile/precio}</beneficio>"
   ]
  },
  {
   "cell_type": "code",
   "execution_count": null,
   "metadata": {
    "vscode": {
     "languageId": "xml"
    }
   },
   "outputs": [],
   "source": [
    "<beneficio>450</beneficio>"
   ]
  },
  {
   "cell_type": "markdown",
   "metadata": {},
   "source": [
    "10. Mostrar el nombre del baile, su precio y el precio con un descuento del 15% para familias numerosas. Ordenar por el nombre del baile"
   ]
  },
  {
   "cell_type": "code",
   "execution_count": null,
   "metadata": {
    "vscode": {
     "languageId": "xpath"
    }
   },
   "outputs": [],
   "source": [
    "for $baile in /bailes/baile\n",
    "order by $baile/nombre\n",
    "return \n",
    "   <baile>\n",
    "      {$baile/nombre}\n",
    "      <precio>{$baile/precio/text()}</precio>\n",
    "      <fam_numerosa>{$baile/precio * 0.85}</fam_numerosa>\n",
    "   </baile>"
   ]
  },
  {
   "cell_type": "code",
   "execution_count": null,
   "metadata": {
    "vscode": {
     "languageId": "xml"
    }
   },
   "outputs": [],
   "source": [
    "<baile>\n",
    "  <nombre>Cha-cha-cha</nombre>\n",
    "  <precio>80</precio>\n",
    "  <fam_numerosa>68</fam_numerosa>\n",
    "</baile>\n",
    "<baile>\n",
    "  <nombre>Merengue</nombre>\n",
    "  <precio>75</precio>\n",
    "  <fam_numerosa>63.75</fam_numerosa>\n",
    "</baile>\n",
    "<baile>\n",
    "  <nombre>Pasodoble</nombre>\n",
    "  <precio>320</precio>\n",
    "  <fam_numerosa>272</fam_numerosa>\n",
    "</baile>\n",
    "<baile>\n",
    "  <nombre>Rock</nombre>\n",
    "  <precio>30</precio>\n",
    "  <fam_numerosa>25.5</fam_numerosa>\n",
    "</baile>\n",
    "<baile>\n",
    "  <nombre>Salsa</nombre>\n",
    "  <precio>32</precio>\n",
    "  <fam_numerosa>27.2</fam_numerosa>\n",
    "</baile>\n",
    "<baile>\n",
    "  <nombre>Tango</nombre>\n",
    "  <precio>27</precio>\n",
    "  <fam_numerosa>22.95</fam_numerosa>\n",
    "</baile>"
   ]
  },
  {
   "cell_type": "markdown",
   "metadata": {},
   "source": [
    "11. Mostrar todos los datos de cada baile excepto la fecha de comienzo y de fin.<br>\n",
    "> **Pista**: Utilizar operador except. Ej: `elemento except elemento ... except elemento`\n",
    "  "
   ]
  },
  {
   "cell_type": "code",
   "execution_count": null,
   "metadata": {
    "vscode": {
     "languageId": "xpath"
    }
   },
   "outputs": [],
   "source": [
    "for $baile in /bailes/baile\n",
    "order by $baile/nombre\n",
    "return \n",
    "   <baile>\n",
    "      {$baile/nombre}\n",
    "      <precio>{$baile/precio/text()}</precio>\n",
    "      <fam_numerosa>{$baile/precio * 0.85}</fam_numerosa>\n",
    "   </baile>"
   ]
  },
  {
   "cell_type": "code",
   "execution_count": null,
   "metadata": {
    "vscode": {
     "languageId": "xml"
    }
   },
   "outputs": [],
   "source": [
    "<baile>\n",
    "  <nombre>Tango</nombre>\n",
    "  <precio cuota=\"mensual\" moneda=\"euro\">27</precio>\n",
    "  <plazas>20</plazas>\n",
    "  <profesor>Roberto Garcia</profesor>\n",
    "  <sala>1</sala>\n",
    "</baile>\n",
    "<baile>\n",
    "  <nombre>Cha-cha-cha</nombre>\n",
    "  <precio cuota=\"trimestral\" moneda=\"euro\">80</precio>\n",
    "  <plazas>18</plazas>\n",
    "  <profesor>Miriam Gutierrez</profesor>\n",
    "  <sala>1</sala>\n",
    "</baile>\n",
    "<baile>\n",
    "  <nombre>Rock</nombre>\n",
    "  <precio cuota=\"mensual\" moneda=\"euro\">30</precio>\n",
    "  <plazas>15</plazas>\n",
    "  <profesor>Laura Mendiola</profesor>\n",
    "  <sala>1</sala>\n",
    "</baile>\n",
    "<baile>\n",
    "  <nombre>Merengue</nombre>\n",
    "  <precio cuota=\"trimestral\" moneda=\"dolares\">75</precio>\n",
    "  <plazas>12</plazas>\n",
    "  <profesor>Jesus Lozano</profesor>\n",
    "  <sala>2</sala>\n",
    "</baile>\n",
    "<baile>\n",
    "  <nombre>Salsa</nombre>\n",
    "  <precio cuota=\"mensual\" moneda=\"euro\">32</precio>\n",
    "  <plazas>10</plazas>\n",
    "  <profesor>Jesus Lozano</profesor>\n",
    "  <sala>2</sala>\n",
    "</baile>\n",
    "<baile>\n",
    "  <nombre>Pasodoble</nombre>\n",
    "  <precio cuota=\"anual\" moneda=\"euro\">320</precio>\n",
    "  <plazas>8</plazas>\n",
    "  <profesor>Miriam Gutierrez</profesor>\n",
    "  <sala>1</sala>\n",
    "</baile>"
   ]
  },
  {
   "cell_type": "markdown",
   "metadata": {},
   "source": [
    "12. Mostrar en una tabla de HTML los nombres de los bailes y su profesor, cada uno en una fila. Una tabla con 2 columnas, y una fila por cada baile. No es necesario incluir el titulo de cada columna<br>\n",
    "> **Pista**: Las tablas en HTML se crean con la etiqueta `<table>`, las filas con `<tr>` y las celdas con `<td>`.\n",
    "> Ejemplo:\n",
    "```xml\n",
    "<table>\n",
    "  <tr>\n",
    "    <td>Nombre</td>\n",
    "    <td>Profesor</td>\n",
    "  </tr>\n",
    "  <tr>\n",
    "    <td>...</td>\n",
    "    <td>...</td>\n",
    "  </tr>\n",
    "</table>\n",
    "```"
   ]
  },
  {
   "cell_type": "code",
   "execution_count": null,
   "metadata": {
    "vscode": {
     "languageId": "xpath"
    }
   },
   "outputs": [],
   "source": [
    "<table> {\n",
    "  for $baile in /bailes/baile\n",
    "  return <tr><td>{$baile/nombre/text()}</td><td>{$baile/profesor/text()}</td></tr>\n",
    "} </table>"
   ]
  },
  {
   "cell_type": "code",
   "execution_count": null,
   "metadata": {
    "vscode": {
     "languageId": "xml"
    }
   },
   "outputs": [],
   "source": [
    "<table>\n",
    "  <tr>\n",
    "    <td>Tango</td>\n",
    "    <td>Roberto Garcia</td>\n",
    "  </tr>\n",
    "  <tr>\n",
    "    <td>Cha-cha-cha</td>\n",
    "    <td>Miriam Gutierrez</td>\n",
    "  </tr>\n",
    "  <tr>\n",
    "    <td>Rock</td>\n",
    "    <td>Laura Mendiola</td>\n",
    "  </tr>\n",
    "  <tr>\n",
    "    <td>Merengue</td>\n",
    "    <td>Jesus Lozano</td>\n",
    "  </tr>\n",
    "  <tr>\n",
    "    <td>Salsa</td>\n",
    "    <td>Jesus Lozano</td>\n",
    "  </tr>\n",
    "  <tr>\n",
    "    <td>Pasodoble</td>\n",
    "    <td>Miriam Gutierrez</td>\n",
    "  </tr>\n",
    "</table>"
   ]
  }
 ],
 "metadata": {
  "kernelspec": {
   "display_name": "Python 3",
   "language": "python",
   "name": "python3"
  },
  "language_info": {
   "codemirror_mode": {
    "name": "ipython",
    "version": 3
   },
   "file_extension": ".py",
   "mimetype": "text/x-python",
   "name": "python",
   "nbconvert_exporter": "python",
   "pygments_lexer": "ipython3",
   "version": "3.9.13"
  }
 },
 "nbformat": 4,
 "nbformat_minor": 2
}
