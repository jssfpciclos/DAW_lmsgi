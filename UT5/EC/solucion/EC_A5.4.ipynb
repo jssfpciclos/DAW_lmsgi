{
 "cells": [
  {
   "cell_type": "markdown",
   "metadata": {},
   "source": [
    "# Ejercicios clase. A5.4\n",
    "\n",
    "### Ejercicios XPath\n",
    "\n",
    "**Entrega**\n",
    "\n",
    "No hay que entregar nada. Se valorará positivamente la realización de los ejercicios y subida al repositorio del alumno. \n",
    "\n",
    "**Recursos**\n",
    "- Apuntes: Para la realización de estos ejercicios utilizar la documentación colgada en el aula virtual (moodle) de la asignatura.\n",
    "- [XML base ejercicio](../TE/res/universidades_xpath.xml):  Utilizar este fichero XML para realizar las consultas.\n",
    "\n",
    "**soluciones**\n",
    "Las solución está disponible [aquí](https://fp.josedomingo.org/lmgs/u04/ejercicio_xpath.html)"
   ]
  },
  {
   "cell_type": "markdown",
   "metadata": {},
   "source": [
    "### Ejercicios"
   ]
  },
  {
   "cell_type": "markdown",
   "metadata": {
    "vscode": {
     "languageId": "xml"
    }
   },
   "source": [
    "1. Nombre de la universidad"
   ]
  },
  {
   "cell_type": "code",
   "execution_count": null,
   "metadata": {
    "vscode": {
     "languageId": "xml"
    }
   },
   "outputs": [],
   "source": [
    "/universidad/nombre"
   ]
  },
  {
   "cell_type": "code",
   "execution_count": null,
   "metadata": {
    "vscode": {
     "languageId": "xml"
    }
   },
   "outputs": [],
   "source": [
    "<nombre>Universidad de Victoria</nombre>"
   ]
  },
  {
   "cell_type": "markdown",
   "metadata": {},
   "source": [
    "2. Pais de la universidad"
   ]
  },
  {
   "cell_type": "raw",
   "metadata": {
    "vscode": {
     "languageId": "xml"
    }
   },
   "source": [
    "/universidad/pais"
   ]
  },
  {
   "cell_type": "code",
   "execution_count": null,
   "metadata": {
    "vscode": {
     "languageId": "xml"
    }
   },
   "outputs": [],
   "source": [
    "<pais>España</pais>"
   ]
  },
  {
   "cell_type": "markdown",
   "metadata": {},
   "source": [
    "3. Nombres de las carreras"
   ]
  },
  {
   "cell_type": "raw",
   "metadata": {
    "vscode": {
     "languageId": "xml"
    }
   },
   "source": [
    "//carreras/carrera/nombre"
   ]
  },
  {
   "cell_type": "code",
   "execution_count": null,
   "metadata": {
    "vscode": {
     "languageId": "xml"
    }
   },
   "outputs": [],
   "source": [
    "<nombre>I.T. InformÃ¡tica</nombre>\n",
    "<nombre>Dipl. Empresariales</nombre>\n",
    "<nombre>Dipl. Relaciones Laborales</nombre>\n",
    "<nombre>Lic. Quimica</nombre>\n",
    "<nombre>Lic. BiologÃ­a</nombre>\n",
    "<nombre>Lic. Humanidades</nombre>"
   ]
  },
  {
   "cell_type": "markdown",
   "metadata": {},
   "source": [
    "4. Años de plan de estudio de las carreras."
   ]
  },
  {
   "cell_type": "raw",
   "metadata": {
    "vscode": {
     "languageId": "xml"
    }
   },
   "source": []
  },
  {
   "cell_type": "code",
   "execution_count": null,
   "metadata": {},
   "outputs": [],
   "source": []
  },
  {
   "cell_type": "markdown",
   "metadata": {},
   "source": [
    "5. Nombres de todos los alumnos"
   ]
  },
  {
   "cell_type": "raw",
   "metadata": {
    "vscode": {
     "languageId": "xml"
    }
   },
   "source": [
    "//carreras/carrera/plan"
   ]
  },
  {
   "cell_type": "code",
   "execution_count": null,
   "metadata": {
    "vscode": {
     "languageId": "xml"
    }
   },
   "outputs": [],
   "source": [
    "<plan>2003</plan>\n",
    "<plan>2001</plan>\n",
    "<plan>2001</plan>\n",
    "<plan>2003</plan>\n",
    "<plan>2001</plan>\n",
    "<plan>1980</plan>"
   ]
  },
  {
   "cell_type": "markdown",
   "metadata": {},
   "source": [
    "6. Identificadores de todas las carreras"
   ]
  },
  {
   "cell_type": "raw",
   "metadata": {
    "vscode": {
     "languageId": "xml"
    }
   },
   "source": [
    "//carreras/carrera/data(@id)"
   ]
  },
  {
   "cell_type": "code",
   "execution_count": null,
   "metadata": {
    "vscode": {
     "languageId": "xml"
    }
   },
   "outputs": [],
   "source": [
    "c01\n",
    "c02\n",
    "c03\n",
    "c04\n",
    "c05\n",
    "c06"
   ]
  },
  {
   "cell_type": "markdown",
   "metadata": {},
   "source": [
    "7. Centro en que se estudia de la carrera cuyo id es c02."
   ]
  },
  {
   "cell_type": "raw",
   "metadata": {
    "vscode": {
     "languageId": "xml"
    }
   },
   "source": [
    "//carreras/carrera[@id=\"c02\"]/centro"
   ]
  },
  {
   "cell_type": "code",
   "execution_count": null,
   "metadata": {},
   "outputs": [],
   "source": [
    "<centro>Facultad de Ciencias Sociales</centro>"
   ]
  },
  {
   "cell_type": "markdown",
   "metadata": {},
   "source": [
    "8. Nombre de las carreras que tengan subdirector."
   ]
  },
  {
   "cell_type": "raw",
   "metadata": {
    "vscode": {
     "languageId": "xml"
    }
   },
   "source": [
    "//subdirector/../nombre"
   ]
  },
  {
   "cell_type": "code",
   "execution_count": null,
   "metadata": {},
   "outputs": [],
   "source": [
    "<nombre>Dipl. Relaciones Laborales</nombre>"
   ]
  },
  {
   "cell_type": "markdown",
   "metadata": {},
   "source": [
    "9. Nombre de los alumnos que estén haciendo proyecto."
   ]
  },
  {
   "cell_type": "raw",
   "metadata": {
    "vscode": {
     "languageId": "xml"
    }
   },
   "source": [
    "//alumno//proyecto/../../nombre"
   ]
  },
  {
   "cell_type": "code",
   "execution_count": null,
   "metadata": {},
   "outputs": [],
   "source": [
    "<nombre>Luisa</nombre>\n",
    "<nombre>MarÃ­a</nombre>"
   ]
  },
  {
   "cell_type": "markdown",
   "metadata": {},
   "source": [
    "10. Códigos de las carreras en las que hay algún alumno matriculado."
   ]
  },
  {
   "cell_type": "raw",
   "metadata": {},
   "source": [
    "//alumno//carrera/@codigo"
   ]
  },
  {
   "cell_type": "code",
   "execution_count": null,
   "metadata": {},
   "outputs": [],
   "source": [
    "codigo=\"c01\"\n",
    "codigo=\"c02\"\n",
    "codigo=\"c02\"\n",
    "codigo=\"c01\""
   ]
  },
  {
   "cell_type": "markdown",
   "metadata": {},
   "source": [
    "11. Apellidos y Nombre de los alumnos con beca."
   ]
  },
  {
   "cell_type": "raw",
   "metadata": {},
   "source": [
    "//alumno[@beca]/nombre | //alumno[@beca]/apellido1 | //alumno[@beca]/apellido2"
   ]
  },
  {
   "cell_type": "code",
   "execution_count": null,
   "metadata": {
    "vscode": {
     "languageId": "xml"
    }
   },
   "outputs": [],
   "source": [
    "<apellido1>PÃ©rez</apellido1>\n",
    "<apellido2>Romero</apellido2>\n",
    "<nombre>Fernando</nombre>"
   ]
  },
  {
   "cell_type": "markdown",
   "metadata": {},
   "source": [
    "12. Nombre de las asignaturas de la titulación c04."
   ]
  },
  {
   "cell_type": "raw",
   "metadata": {},
   "source": [
    "//asignatura[@titulacion='c04']/nombre"
   ]
  },
  {
   "cell_type": "code",
   "execution_count": null,
   "metadata": {
    "vscode": {
     "languageId": "xml"
    }
   },
   "outputs": [],
   "source": [
    "<nombre>PedagogÃ­a</nombre>\n",
    "<nombre>TecnologÃ­a de los Alimentos</nombre>"
   ]
  },
  {
   "cell_type": "markdown",
   "metadata": {},
   "source": [
    "13. Nombre de las asignaturas de segundo trimestre."
   ]
  },
  {
   "cell_type": "code",
   "execution_count": null,
   "metadata": {
    "vscode": {
     "languageId": "xpath"
    }
   },
   "outputs": [],
   "source": [
    "//asignatura[trimestre=2]/nombre"
   ]
  },
  {
   "cell_type": "code",
   "execution_count": null,
   "metadata": {
    "vscode": {
     "languageId": "xml"
    }
   },
   "outputs": [],
   "source": [
    "<nombre>IngenierÃ­a del Software</nombre>\n",
    "<nombre>PedagogÃ­a</nombre>\n",
    "<nombre>DidÃ¡ctica</nombre>\n",
    "<nombre>TecnologÃ­a de los Alimentos</nombre>\n",
    "<nombre>Historia del Pensamiento</nombre>"
   ]
  },
  {
   "cell_type": "markdown",
   "metadata": {},
   "source": [
    "14. Nombre de las asignaturas que no tienen 4 créditos teóricos."
   ]
  },
  {
   "cell_type": "raw",
   "metadata": {},
   "source": [
    "//asignatura[not(creditos_teoricos=4)]/nombre"
   ]
  },
  {
   "cell_type": "code",
   "execution_count": null,
   "metadata": {
    "vscode": {
     "languageId": "xml"
    }
   },
   "outputs": [],
   "source": [
    "<nombre>OfimÃ¡tica</nombre>\n",
    "<nombre>IngenierÃ­a del Software</nombre>\n",
    "<nombre>TecnologÃ­a de los Alimentos</nombre>\n",
    "<nombre>Bases de Datos</nombre>\n",
    "<nombre>Historia del Pensamiento</nombre>"
   ]
  },
  {
   "cell_type": "markdown",
   "metadata": {},
   "source": [
    "15. Código de la carrera que estudia el último alumno."
   ]
  },
  {
   "cell_type": "raw",
   "metadata": {},
   "source": [
    "//alumno[last()]//carrera/@codigo"
   ]
  },
  {
   "cell_type": "code",
   "execution_count": null,
   "metadata": {
    "vscode": {
     "languageId": "xml"
    }
   },
   "outputs": [],
   "source": [
    "codigo=\"c01\""
   ]
  },
  {
   "cell_type": "markdown",
   "metadata": {},
   "source": [
    "15. Código de las asignaturas que estudian mujeres."
   ]
  },
  {
   "cell_type": "raw",
   "metadata": {},
   "source": [
    "//alumno[sexo='Mujer']//asignatura/@codigo"
   ]
  },
  {
   "cell_type": "code",
   "execution_count": null,
   "metadata": {
    "vscode": {
     "languageId": "xml"
    }
   },
   "outputs": [],
   "source": [
    "codigo=\"a02\"\n",
    "codigo=\"a01\"\n",
    "codigo=\"a02\"\n",
    "codigo=\"a01\"\n",
    "codigo=\"a07\""
   ]
  },
  {
   "cell_type": "markdown",
   "metadata": {},
   "source": [
    "16. Nombre de las carreras que estudian los alumnos matriculados en la asignatura Tecnología de los Alimentos."
   ]
  },
  {
   "cell_type": "raw",
   "metadata": {},
   "source": [
    "//carrera[@id=//alumno[.//asignatura[@codigo=//asignatura[nombre='Tecnología de los Alimentos']/@id]]//carrera/@codigo]/nombre"
   ]
  },
  {
   "cell_type": "code",
   "execution_count": null,
   "metadata": {
    "vscode": {
     "languageId": "xml"
    }
   },
   "outputs": [],
   "source": [
    "<nombre>I.T. InformÃ¡tica</nombre>"
   ]
  },
  {
   "cell_type": "markdown",
   "metadata": {},
   "source": [
    "17. Códigos de las carreras que estudian los alumnos matriculados en alguna asignatura."
   ]
  },
  {
   "cell_type": "raw",
   "metadata": {},
   "source": [
    "//alumno//asignatura/../../carrera/@codigo"
   ]
  },
  {
   "cell_type": "code",
   "execution_count": null,
   "metadata": {
    "vscode": {
     "languageId": "xml"
    }
   },
   "outputs": [],
   "source": [
    "codigo=\"c01\"\n",
    "codigo=\"c02\"\n",
    "codigo=\"c02\"\n",
    "codigo=\"c01\""
   ]
  },
  {
   "cell_type": "markdown",
   "metadata": {},
   "source": [
    "17. Primer apellido de los alumnos matriculados en Ingeniería del Software."
   ]
  },
  {
   "cell_type": "raw",
   "metadata": {},
   "source": [
    "//alumno[.//asignatura/@codigo=//asignatura[nombre='Ingeniería del Software']/@id]/apellido1"
   ]
  },
  {
   "cell_type": "code",
   "execution_count": null,
   "metadata": {
    "vscode": {
     "languageId": "xml"
    }
   },
   "outputs": [],
   "source": [
    "<apellido1>PÃ©rez</apellido1>\n",
    "<apellido1>PÃ©rez</apellido1>\n",
    "<apellido1>AvalÃ³n</apellido1>"
   ]
  },
  {
   "cell_type": "markdown",
   "metadata": {},
   "source": [
    "18. Nombre de los alumnos matriculados en carreras que no tienen subdirector."
   ]
  },
  {
   "cell_type": "raw",
   "metadata": {},
   "source": [
    "//alumno[not (.//carrera/@codigo=//carrera[subdirector]/@codigo)]/nombre"
   ]
  },
  {
   "cell_type": "code",
   "execution_count": null,
   "metadata": {
    "vscode": {
     "languageId": "xml"
    }
   },
   "outputs": [],
   "source": [
    "<nombre>VÃ­ctor Manuel</nombre>\n",
    "<nombre>Luisa</nombre>\n",
    "<nombre>Fernando</nombre>\n",
    "<nombre>MarÃ­a</nombre>"
   ]
  },
  {
   "cell_type": "markdown",
   "metadata": {},
   "source": [
    "19. Nombre de las alumnos matriculados en asignaturas con 0 créditos prácticos y que estudien la carrera de I.T. Informática ."
   ]
  },
  {
   "cell_type": "raw",
   "metadata": {},
   "source": [
    "//alumno[.//asignatura/@codigo=//asignatura[creditos_practicos=0]/@id][.//carrera/@codigo=//carrera[nombre='I.T. Informática']/@id]/nombre"
   ]
  },
  {
   "cell_type": "code",
   "execution_count": null,
   "metadata": {
    "vscode": {
     "languageId": "xml"
    }
   },
   "outputs": [],
   "source": [
    "<nombre>VÃ­ctor Manuel</nombre>"
   ]
  },
  {
   "cell_type": "markdown",
   "metadata": {},
   "source": [
    "20. Nombre de los alumnos que estudian carreras cuyos planes son anteriores a 2002."
   ]
  },
  {
   "cell_type": "raw",
   "metadata": {},
   "source": [
    "//alumno[.//carrera/@codigo=//carrera[not(plan>=2002)]/@id]/nombre"
   ]
  },
  {
   "cell_type": "code",
   "execution_count": null,
   "metadata": {
    "vscode": {
     "languageId": "xml"
    }
   },
   "outputs": [],
   "source": [
    "<nombre>Luisa</nombre>\n",
    "<nombre>Fernando</nombre>"
   ]
  },
  {
   "cell_type": "markdown",
   "metadata": {},
   "source": [
    "21. Nombre de la carrera que estudia Víctor Manuel."
   ]
  },
  {
   "cell_type": "raw",
   "metadata": {},
   "source": [
    "//carrera[@id=//alumno[nombre='VÃ­ctor Manuel']//carrera/@codigo]/nombre"
   ]
  },
  {
   "cell_type": "code",
   "execution_count": null,
   "metadata": {
    "vscode": {
     "languageId": "xml"
    }
   },
   "outputs": [],
   "source": [
    "<nombre>I.T. InformÃ¡tica</nombre>"
   ]
  },
  {
   "cell_type": "markdown",
   "metadata": {},
   "source": [
    "22. Nombre de las carreras que estudian los alumnos matriculados en la asignatura Tecnología de los Alimentos."
   ]
  },
  {
   "cell_type": "raw",
   "metadata": {},
   "source": [
    "//carrera[@id=//alumno[.//asignatura[@codigo=//asignatura[nombre='Tecnología de los Alimentos']/@id]]//carrera/@codigo]/nombre"
   ]
  },
  {
   "cell_type": "code",
   "execution_count": null,
   "metadata": {
    "vscode": {
     "languageId": "xml"
    }
   },
   "outputs": [],
   "source": [
    "<nombre>I.T. InformÃ¡tica</nombre>"
   ]
  }
 ],
 "metadata": {
  "kernelspec": {
   "display_name": "Python 3",
   "language": "python",
   "name": "python3"
  },
  "language_info": {
   "codemirror_mode": {
    "name": "ipython",
    "version": 3
   },
   "file_extension": ".py",
   "mimetype": "text/x-python",
   "name": "python",
   "nbconvert_exporter": "python",
   "pygments_lexer": "ipython3",
   "version": "3.9.13"
  }
 },
 "nbformat": 4,
 "nbformat_minor": 2
}
