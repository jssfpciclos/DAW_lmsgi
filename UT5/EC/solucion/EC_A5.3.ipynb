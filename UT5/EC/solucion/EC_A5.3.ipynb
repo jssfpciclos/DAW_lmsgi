{
 "cells": [
  {
   "cell_type": "markdown",
   "metadata": {},
   "source": [
    "# Ejercicios clase. A5.3\n",
    "\n",
    "### Ejercicios XQuery\n",
    "\n",
    "**Entrega**\n",
    "\n",
    "No hay que entregar nada. Se valorará positivamente la realización de los ejercicios y subida al repositorio del alumno. \n",
    "\n",
    "**Recursos**\n",
    "- Apuntes: Para la realización de estos ejercicios utilizar la documentación colgada en el aula virtual (moodle) de la asignatura.\n",
    "- [XML base ejercicio](../TE/res/movies_xpath.xml):  Utilizar este fichero XML para realizar las consultas."
   ]
  },
  {
   "cell_type": "markdown",
   "metadata": {},
   "source": [
    "### Ejercicios"
   ]
  },
  {
   "cell_type": "markdown",
   "metadata": {},
   "source": [
    "### FLOWR Consultas"
   ]
  },
  {
   "cell_type": "markdown",
   "metadata": {
    "vscode": {
     "languageId": "xml"
    }
   },
   "source": [
    "1. Selecciona el nombre de todas las peliculas en el que el rating `imdb` > 7.0"
   ]
  },
  {
   "cell_type": "code",
   "execution_count": null,
   "metadata": {
    "vscode": {
     "languageId": "xpath"
    }
   },
   "outputs": [],
   "source": [
    "for $x in /movies/movie\n",
    "where $x/imdb > 7.0\n",
    "return $x/name"
   ]
  },
  {
   "cell_type": "code",
   "execution_count": null,
   "metadata": {
    "vscode": {
     "languageId": "xml"
    }
   },
   "outputs": [],
   "source": [
    "# Copia aquí el resultado de la consulta\n",
    "<name lang=\"en\">Spider Man No Way Home</name>\n",
    "<name lang=\"hi\">Shershaah</name>\n",
    "<name lang=\"ta\">Karnan</name>"
   ]
  },
  {
   "cell_type": "markdown",
   "metadata": {},
   "source": [
    "2. Selecciona los nombres de todas las pelicuas que se estrenaron después de la fecha `21-08-20`"
   ]
  },
  {
   "cell_type": "code",
   "execution_count": null,
   "metadata": {
    "vscode": {
     "languageId": "xpath"
    }
   },
   "outputs": [],
   "source": [
    "for $x in /movies/movie\n",
    "where $x/release > \"2021-08-01\"\n",
    "order by $x/name descending\n",
    "return $x/name"
   ]
  },
  {
   "cell_type": "code",
   "execution_count": null,
   "metadata": {},
   "outputs": [],
   "source": [
    "<name lang=\"en\">Spider Man No Way Home</name>\n",
    "<name lang=\"hi\">Shershaah</name>\n",
    "<name lang=\"en\">Red Notice</name>\n",
    "<name lang=\"en\">Army of Thieves</name>\n",
    "<name lang=\"en\">Antlers</name>"
   ]
  },
  {
   "cell_type": "markdown",
   "metadata": {},
   "source": [
    "3. Seleccionado los nombres de los actores de la pelicula `Antlers`"
   ]
  },
  {
   "cell_type": "code",
   "execution_count": null,
   "metadata": {
    "vscode": {
     "languageId": "xpath"
    }
   },
   "outputs": [],
   "source": [
    "for $x in /movies/movie\n",
    "where $x[name=\"Antlers\"]\n",
    "order by $x/name\n",
    "return $x/cast/actor/name/text()"
   ]
  },
  {
   "cell_type": "code",
   "execution_count": null,
   "metadata": {
    "vscode": {
     "languageId": "xml"
    }
   },
   "outputs": [],
   "source": [
    "Jesse Plemons\n",
    "Keri Russell\n",
    "Jeremy T. Thomas"
   ]
  },
  {
   "cell_type": "markdown",
   "metadata": {},
   "source": [
    "4. Selecciona nombre y boxoffice de todas las peliculas cuyo idioma sea `hindi`"
   ]
  },
  {
   "cell_type": "code",
   "execution_count": null,
   "metadata": {
    "vscode": {
     "languageId": "xpath"
    }
   },
   "outputs": [],
   "source": [
    "for $x in /movies/movie\n",
    "where $x/name[@lang=\"hi\"]\n",
    "order by $x/name\n",
    "return $x/name/text() | $x/boxoffice/text()"
   ]
  },
  {
   "cell_type": "code",
   "execution_count": null,
   "metadata": {
    "vscode": {
     "languageId": "xml"
    }
   },
   "outputs": [],
   "source": [
    "Roohi\n",
    "15 M. USD\n",
    "Shershaah\n",
    "30 M. USD"
   ]
  },
  {
   "cell_type": "markdown",
   "metadata": {},
   "source": [
    "5. Selecciona nombre y imdb de todas las peliculas cuyo idioma sea `english`"
   ]
  },
  {
   "cell_type": "code",
   "execution_count": null,
   "metadata": {
    "vscode": {
     "languageId": "xpath"
    }
   },
   "outputs": [],
   "source": [
    "for $x in /movies/movie\n",
    "where $x/name[@lang=\"en\"]\n",
    "order by $x/name\n",
    "return $x/name/text() | $x/imdb/text()"
   ]
  },
  {
   "cell_type": "code",
   "execution_count": null,
   "metadata": {
    "vscode": {
     "languageId": "xml"
    }
   },
   "outputs": [],
   "source": [
    "Antlers\n",
    "6.4\n",
    "Army of Thieves\n",
    "6.4\n",
    "Jungle Cruise\n",
    "7.0\n",
    "Red Notice\n",
    "6.3\n",
    "Spider Man No Way Home\n",
    "8.8"
   ]
  },
  {
   "cell_type": "markdown",
   "metadata": {},
   "source": [
    "6. Seleccionado nombre y imdb de todas las peliculas cuyo idioma no sea `english`"
   ]
  },
  {
   "cell_type": "code",
   "execution_count": null,
   "metadata": {
    "vscode": {
     "languageId": "xpath"
    }
   },
   "outputs": [],
   "source": [
    "for $x in /movies/movie\n",
    "where $x/not(name[@lang=\"en\"])\n",
    "order by $x/name\n",
    "return $x/name/text() | $x/imdb/text()"
   ]
  },
  {
   "cell_type": "code",
   "execution_count": null,
   "metadata": {
    "vscode": {
     "languageId": "xml"
    }
   },
   "outputs": [],
   "source": [
    "Karnan\n",
    "8.2\n",
    "Roohi\n",
    "4.3\n",
    "Shershaah\n",
    "8.7"
   ]
  },
  {
   "cell_type": "markdown",
   "metadata": {},
   "source": [
    "7. Selecciona nombre y edad de los actores en todas las peliculas cuya edad sea > 40 años"
   ]
  },
  {
   "cell_type": "code",
   "execution_count": null,
   "metadata": {
    "vscode": {
     "languageId": "xpath"
    }
   },
   "outputs": [],
   "source": [
    "for $x in /movies/movie/cast/actor\n",
    "where $x/age > 40\n",
    "order by $x/age\n",
    "return $x/name | $x/age"
   ]
  },
  {
   "cell_type": "code",
   "execution_count": null,
   "metadata": {},
   "outputs": [],
   "source": [
    "<name gender=\"female\">Keri Russell</name>\n",
    "<age>45</age>\n",
    "<name gender=\"male\">Ryan Reynolds</name>\n",
    "<age>45</age>\n",
    "<name gender=\"male\">Tobey Maguire</name>\n",
    "<age>46</age>\n",
    "<name gender=\"male\">Dwayne Johnson</name>\n",
    "<age>49</age>\n",
    "<name gender=\"male\">Dwayne Johnson</name>\n",
    "<age>49</age>"
   ]
  },
  {
   "cell_type": "markdown",
   "metadata": {},
   "source": [
    "8. Selecciona nombre de todas las peliculas en el que el actor `a0001` haya participado"
   ]
  },
  {
   "cell_type": "code",
   "execution_count": null,
   "metadata": {
    "vscode": {
     "languageId": "xpath"
    }
   },
   "outputs": [],
   "source": [
    "for $x in /movies/movie\n",
    "where $x/cast/actor[@id=\"a0001\"]\n",
    "order by $x/name\n",
    "return $x/name/text()\n"
   ]
  },
  {
   "cell_type": "code",
   "execution_count": null,
   "metadata": {},
   "outputs": [],
   "source": [
    "Jungle Cruise\n",
    "Red Notice"
   ]
  }
 ],
 "metadata": {
  "kernelspec": {
   "display_name": "Python 3",
   "language": "python",
   "name": "python3"
  },
  "language_info": {
   "codemirror_mode": {
    "name": "ipython",
    "version": 3
   },
   "file_extension": ".py",
   "mimetype": "text/x-python",
   "name": "python",
   "nbconvert_exporter": "python",
   "pygments_lexer": "ipython3",
   "version": "3.9.13"
  }
 },
 "nbformat": 4,
 "nbformat_minor": 2
}
