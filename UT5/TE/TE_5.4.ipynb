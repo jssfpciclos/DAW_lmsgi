{
 "cells": [
  {
   "cell_type": "markdown",
   "metadata": {},
   "source": [
    "# Boletin 5.4\n",
    "\n",
    "### Ejercicios XPath y XQuery\n",
    "\n",
    "**Entrega**\n",
    "\n",
    "La entrega se realizará en este mismo documento incluyendo las consultas XPath y XQuery realizadas.\n",
    "\n",
    "**Recursos**\n",
    "- Apuntes: Para la realización de estos ejercicios utilizar la documentación colgada en el aula virtual (moodle) de la asignatura.\n",
    "- [XML consultas](res/courses_xpath.xml):  Utilizar este fichero XML para realizar las consultas.\n",
    "\n",
    "\n",
    "**Aclaraciones estructura XML**\n",
    "- Es un catalogo de cursos, agrupados por departametos.\n",
    "- Cada departamento, tiene un código, un nombre, y un profesor responsable (`chair`)\n",
    "- Cada curso tiene un número, nº alumnos matriculados (`enrollment`), y un profesor responsable (`instructor`). Un curso puede tener un curso pre-requisito (`prereq`), que se debe realizar antes de poder matricularse en el curso.\n",
    "- Los profesores (instuctores) pueden impartir clase (Profesor) o ser ayudantes (Lecturer)."
   ]
  },
  {
   "cell_type": "markdown",
   "metadata": {},
   "source": [
    "### Ejercicios"
   ]
  },
  {
   "cell_type": "markdown",
   "metadata": {
    "vscode": {
     "languageId": "xml"
    }
   },
   "source": [
    "1. Retorna todos los elementos títulos (de ambos departamentos y cursos)"
   ]
  },
  {
   "cell_type": "raw",
   "metadata": {
    "vscode": {
     "languageId": "xml"
    }
   },
   "source": [
    "# Escribe aquí la consulta XPath\n",
    "//Chair/Professor/Last_Name"
   ]
  },
  {
   "cell_type": "code",
   "execution_count": null,
   "metadata": {
    "vscode": {
     "languageId": "xml"
    }
   },
   "outputs": [],
   "source": [
    "# Copia aquí el resultado de la consulta\n",
    "<Last_Name>Widom</Last_Name>\n",
    "<Last_Name>Horowitz</Last_Name>\n",
    "<Last_Name>Levin</Last_Name>"
   ]
  },
  {
   "cell_type": "markdown",
   "metadata": {},
   "source": [
    "2. Retorna los `last-names` de todos los departamentos `chairs`"
   ]
  },
  {
   "cell_type": "raw",
   "metadata": {
    "vscode": {
     "languageId": "xml"
    }
   },
   "source": []
  },
  {
   "cell_type": "code",
   "execution_count": null,
   "metadata": {},
   "outputs": [],
   "source": []
  },
  {
   "cell_type": "markdown",
   "metadata": {},
   "source": [
    "3. Retorna títulos de cursos con `enrollment` mayor que 500"
   ]
  },
  {
   "cell_type": "raw",
   "metadata": {
    "vscode": {
     "languageId": "xml"
    }
   },
   "source": []
  },
  {
   "cell_type": "code",
   "execution_count": null,
   "metadata": {},
   "outputs": [],
   "source": []
  },
  {
   "cell_type": "markdown",
   "metadata": {},
   "source": [
    "4. Retorna títulos de departamentos que tengan algún curso que tiene `CS106B` como prerequisito"
   ]
  },
  {
   "cell_type": "raw",
   "metadata": {
    "vscode": {
     "languageId": "xml"
    }
   },
   "source": []
  },
  {
   "cell_type": "code",
   "execution_count": null,
   "metadata": {},
   "outputs": [],
   "source": []
  },
  {
   "cell_type": "markdown",
   "metadata": {},
   "source": [
    "5. Retorna `last-names` de todos los profesores y lecturers quién usa un `middle initial`."
   ]
  },
  {
   "cell_type": "raw",
   "metadata": {
    "vscode": {
     "languageId": "xml"
    }
   },
   "source": []
  },
  {
   "cell_type": "code",
   "execution_count": null,
   "metadata": {},
   "outputs": [],
   "source": []
  },
  {
   "cell_type": "markdown",
   "metadata": {},
   "source": [
    "6. Retorna el número de cursos que tiene un `cross-listed` en su descripción"
   ]
  },
  {
   "cell_type": "raw",
   "metadata": {
    "vscode": {
     "languageId": "xml"
    }
   },
   "source": []
  },
  {
   "cell_type": "code",
   "execution_count": null,
   "metadata": {},
   "outputs": [],
   "source": []
  },
  {
   "cell_type": "markdown",
   "metadata": {},
   "source": [
    "7. Retorna la media de matriculados de todos los cursos en el departamento de `CS`"
   ]
  },
  {
   "cell_type": "raw",
   "metadata": {
    "vscode": {
     "languageId": "xml"
    }
   },
   "source": []
  },
  {
   "cell_type": "code",
   "execution_count": null,
   "metadata": {},
   "outputs": [],
   "source": []
  },
  {
   "cell_type": "markdown",
   "metadata": {},
   "source": [
    "8. Retonar los `last-names` de instructores que enseñan al menos un curso que tiene `system` en su descripción y `enrollment` mayor que 100"
   ]
  },
  {
   "cell_type": "raw",
   "metadata": {
    "vscode": {
     "languageId": "xml"
    }
   },
   "source": []
  },
  {
   "cell_type": "code",
   "execution_count": null,
   "metadata": {},
   "outputs": [],
   "source": []
  },
  {
   "cell_type": "markdown",
   "metadata": {},
   "source": [
    "9. Retorna el título del curso con el número de matriculados más alto"
   ]
  },
  {
   "cell_type": "raw",
   "metadata": {
    "vscode": {
     "languageId": "xml"
    }
   },
   "source": []
  },
  {
   "cell_type": "code",
   "execution_count": null,
   "metadata": {},
   "outputs": [],
   "source": []
  },
  {
   "cell_type": "markdown",
   "metadata": {},
   "source": [
    "10. Retorna el numero de cursos que tienen no `lecturers` como instructores"
   ]
  },
  {
   "cell_type": "raw",
   "metadata": {},
   "source": []
  },
  {
   "cell_type": "code",
   "execution_count": null,
   "metadata": {},
   "outputs": [],
   "source": []
  },
  {
   "cell_type": "markdown",
   "metadata": {},
   "source": [
    "11. Retornoa tiítulos de cursos impartidos por el `chair` del departamento."
   ]
  },
  {
   "cell_type": "raw",
   "metadata": {},
   "source": []
  },
  {
   "cell_type": "code",
   "execution_count": null,
   "metadata": {},
   "outputs": [],
   "source": []
  },
  {
   "cell_type": "markdown",
   "metadata": {},
   "source": [
    "12. Retorna títulos de cursos impartidos por un profesor con el `last-name` ea \"Ng\" pero no por un profesor con el `last-name` \"Thrun\"  💡(usar count() = 0)"
   ]
  },
  {
   "cell_type": "raw",
   "metadata": {},
   "source": []
  },
  {
   "cell_type": "code",
   "execution_count": null,
   "metadata": {},
   "outputs": [],
   "source": []
  },
  {
   "cell_type": "markdown",
   "metadata": {},
   "source": [
    "13. Haz un sumatorio de CS clases. Lista todos los departamentos `CS` en orden de número de alumnos matriculados.<br>\n",
    "Por cada curso incluye solo su `Enrollement` (como atributo) y el `title` (como sub-elemento contenido).<br>\n",
    "  \n",
    "Ejemplo de salida:\n",
    "  ```xml\n",
    "  <Summary> \n",
    "    ...\n",
    "    <Course Enrollment=\"60\">\n",
    "      <Title>From Languages to Information</Title>\n",
    "    </Course>\n",
    "    <Course Enrollment=\"90\">\n",
    "      <Title>Compilers</Title>\n",
    "    </Course>\n",
    "    ...\n",
    "  </Summary>\n",
    "    ```"
   ]
  },
  {
   "cell_type": "code",
   "execution_count": null,
   "metadata": {},
   "outputs": [],
   "source": []
  },
  {
   "cell_type": "code",
   "execution_count": null,
   "metadata": {},
   "outputs": [],
   "source": []
  },
  {
   "cell_type": "markdown",
   "metadata": {},
   "source": [
    "14. Retorna un `Profesores` elemento que contenga como sub-elementos un listado de todos los profesores in todos los departamentos, ordenados por `last-name` con cada profesor apareciendo una vez. <br>\n",
    "El `Profesor` subelementos deberian tener la misma estructura como en el documento original\n",
    "\n",
    "    ✏️ **nota**: La presencia o ausencia de un `middle-initial` puede requerir acciones para su manejo.\n",
    "  \n",
    "Ejemplo de salida:\n",
    "  ```xml\n",
    "  <Profesores>\n",
    "    <Profesor>\n",
    "      <First_Name>Alex</First_Name>\n",
    "      <Middle_Initial>S.</Middle_Initial>\n",
    "      <Last_Name>Aiken</Last_Name>    \n",
    "    </Profesor>\n",
    "    <Profesor>\n",
    "      <First_Name>William</First_Name>\n",
    "      <Middle_Initial>J.</Middle_Initial>\n",
    "      <Last_Name>Dally</Last_Name>\n",
    "    </Profesor>  \n",
    "    ...\n",
    "  </Profesores>\n",
    "    ```"
   ]
  }
 ],
 "metadata": {
  "kernelspec": {
   "display_name": "Python 3",
   "language": "python",
   "name": "python3"
  },
  "language_info": {
   "codemirror_mode": {
    "name": "ipython",
    "version": 3
   },
   "file_extension": ".py",
   "mimetype": "text/x-python",
   "name": "python",
   "nbconvert_exporter": "python",
   "pygments_lexer": "ipython3",
   "version": "3.9.13"
  }
 },
 "nbformat": 4,
 "nbformat_minor": 2
}
