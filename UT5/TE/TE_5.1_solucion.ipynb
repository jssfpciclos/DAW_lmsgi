{
 "cells": [
  {
   "cell_type": "markdown",
   "metadata": {},
   "source": [
    "# Boletin 5.1\n",
    "\n",
    "### Ejercicios de validación con DTD\n",
    "\n",
    "**Recursos**\n",
    "Para la realización de estos ejercicios estos son los recursos disponibles:\n",
    "- [Apuntes DTD](https://drive.google.com/file/d/1T_1PdIum3nrXpr2a8ruRbZ9Rtt9AXfek/view?usp=sharing)\n",
    "- [Presentación DTD](https://drive.google.com/file/d/1kRef4c0TKTgMn2qNjdENzX6HKBRZWSmr/view?usp=sharing)\n",
    "- [Chuleta DTD](https://drive.google.com/file/d/1kRef4c0TKTgMn2qNjdENzX6HKBRZWSmr/view?usp=sharing)"
   ]
  },
  {
   "cell_type": "markdown",
   "metadata": {},
   "source": [
    "### Ejercicio 1\n",
    "\n",
    "Según este XML define un DTD que lo valide siguiendo las reglas:\n",
    "- todas las propiedades de mensaje son obligatorias\n",
    "- Todos los elementos son de tipo texto.\n",
    "\n",
    "El XML a validar es el siguiente:\n",
    "\n",
    "```xml\n",
    "<?xml version=\"1.0\"?>\n",
    "<mensaje>\n",
    "\t<para>manuel@gmail.com</para>\n",
    "\t<de>joaquin</de>\n",
    "\t<titulo>esto es una prueba</titulo>\n",
    "\t<contenido>Este es el contenido</contenido>\n",
    "</mensaje>\n",
    "```\n",
    "\n",
    "En el cuadro inferior incluye el XML y el DTD que lo valida."
   ]
  },
  {
   "cell_type": "markdown",
   "metadata": {
    "vscode": {
     "languageId": "xml"
    }
   },
   "source": [
    "> Solución:\n",
    "\n",
    "```xml\t\n",
    "<?xml version=\"1.0\" encoding=\"UTF-8\"?>\n",
    "<!DOCTYPE mensaje [\n",
    "  <!ELEMENT mensaje (#PCDATA)>\n",
    "  <!ELEMENT para (#PCDATA)>\n",
    "  <!ELEMENT de (#PCDATA)>\n",
    "  <!ELEMENT titulo (#PCDATA)>\n",
    "]>\n",
    "<mensaje>\n",
    "  <para>manuel@gmail.com</para>\n",
    "  <de>joaquin</de>\n",
    "  <titulo>esto es una prueba</titulo>\n",
    "  <contenido>Este es\n",
    "  el contenido</contenido>\n",
    "</mensaje>\n",
    "```"
   ]
  },
  {
   "cell_type": "markdown",
   "metadata": {},
   "source": [
    "### Ejercicio 2\n",
    "\n",
    "Según este XML define un DTD que lo valide siguiendo las reglas:\n",
    "- Puede no contener ninguna persona.\n",
    "- Una persona debe contener como mínimo “nombre” y “sexo”\n",
    "- Todos los elementos son de tipo texto.\n",
    "- **Completa el XML para incluir el DTD y el encabezado XML**\n",
    "\n",
    "El XML a validar es el siguiente:\n",
    "\n",
    "```xml\n",
    "<?xml version=\"1.0\" encoding=\"ISO-8859-1\" standalone=\"no\"?>\n",
    "<lista_personas>\n",
    "\t<persona>\n",
    "\t\t<nombre>Antonio moreno</nombre>\n",
    "\t\t<fecha_nacimiento>Antonio moreno</fecha_nacimiento>\n",
    "\t\t<sexo>Varon</sexo>\n",
    "\t</persona>\n",
    "</lista_personas>\n",
    "\n",
    "```\n",
    "\n",
    "En el cuadro inferior incluye únicamente el **DTD externo** que lo valida."
   ]
  },
  {
   "cell_type": "markdown",
   "metadata": {
    "vscode": {
     "languageId": "xml"
    }
   },
   "source": [
    "> Solución:\n",
    "\n",
    "```xml\n",
    "<?xml version=\"1.0\" encoding=\"ISO-8859-1\" standalone=\"no\"?>\n",
    "<!DOCTYPE lista_personas [\n",
    "  <!ELEMENT lista_personas (persona*)>\n",
    "  <!ELEMENT persona (nombre+,fecha_nacimiento,sexo+)>\n",
    "  <!ELEMENT nombre (#PCDATA)>\n",
    "  <!ELEMENT fecha_nacimiento (#PCDATA)>\n",
    "  <!ELEMENT sexo (#PCDATA)>\n",
    "]>\n",
    "<lista_personas>\n",
    "  <persona>\n",
    "    <nombre>Antonio moreno</nombre>\n",
    "    <fecha_nacimiento>Antonio moreno</fecha_nacimiento>\n",
    "    <sexo>Varon</sexo>\n",
    "  </persona>\n",
    "</lista_personas>\n",
    "```"
   ]
  },
  {
   "cell_type": "markdown",
   "metadata": {},
   "source": [
    "### Ejercicio 3\n",
    "\n",
    "Según este XML define un DTD que lo valide siguiendo las reglas:\n",
    "- Debe contener al menos un elemento en la lista\n",
    "- Debe contener como mínimo el “nombre” un socio\n",
    "- Al menos edad o clave o numero se deben incluir en cada socio, como mínimo una vez.\n",
    "- **Incluye el DTD en el propio fichero XML**\n",
    "\n",
    "El XML a validar es el siguiente:\n",
    "\n",
    "```xml\n",
    "<socios>\n",
    "  <socio>\n",
    "    <nombre>Ana</nombre>\n",
    "    <edad>21</edad>\n",
    "  </socio>\n",
    "  <socio>\n",
    "    <nombre>iker</nombre>\n",
    "    <numero>598</numero>\n",
    "    <edad>19</edad>\n",
    "  </socio>\n",
    "  <socio>\n",
    "    <nombre>iker</nombre>\n",
    "    <clave>3rffwe</clave>\n",
    "  </socio>\n",
    "</socios>\n",
    "```\n",
    "\n",
    "En el cuadro inferior incluye el XML y el DTD que lo valida."
   ]
  },
  {
   "cell_type": "markdown",
   "metadata": {
    "vscode": {
     "languageId": "xml"
    }
   },
   "source": [
    "> Solución:\n",
    "\n",
    "```xml\n",
    "<?xml version=\"1.0\" encoding=\"UTF-8\"?>\n",
    "<!DOCTYPE socios [\n",
    "  <!ELEMENT socios (socio+)>\n",
    "  <!ELEMENT socio (nombre, (numero | edad | clave)+)>\n",
    "  <!ELEMENT nombre (#PCDATA)>\n",
    "  <!ELEMENT numero (#PCDATA)>\n",
    "  <!ELEMENT edad (#PCDATA)>\n",
    "  <!ELEMENT clave (#PCDATA)>\n",
    "]>\n",
    "<socios>\n",
    "  <socio>\n",
    "    <nombre>Ana</nombre>\n",
    "    <edad>21</edad>\n",
    "  </socio>\n",
    "  <socio>\n",
    "    <nombre>iker</nombre>\n",
    "    <numero>598</numero>\n",
    "    <edad>19</edad>\n",
    "  </socio>\n",
    "  <socio>\n",
    "    <nombre>iker</nombre>\n",
    "    <clave>3rffwe</clave>\n",
    "  </socio>\n",
    "</socios>\n",
    "```"
   ]
  },
  {
   "cell_type": "markdown",
   "metadata": {},
   "source": [
    "### Ejercico 4\n",
    "\n",
    "Según este XML define un DTD que lo valide. <br>\n",
    "**Completa el XML para incluir el DTD y el encabezado XML**\n",
    "\n",
    "```xml\n",
    "<matricula>\n",
    "  <personal>\n",
    "    <dni>79251856A</dni>\n",
    "    <nombre>Juan pedro martin</nombre>\n",
    "    <titulacion>Ingenieria Infomática</titulacion>\n",
    "    <curso_academico>Ingenieria Infomática</curso_academico>\n",
    "    <domicilios>\n",
    "      <domicilio tipo=\"familiar\">\n",
    "        <nombre>C/ ramon y cajal, 11</nombre>\n",
    "      </domicilio>\n",
    "      <domicilio tipo=\"habitual\">\n",
    "        <nombre>C/ montera, 30</nombre>\n",
    "      </domicilio>\n",
    "    </domicilios>\n",
    "  </personal>\n",
    "  <pago>\n",
    "    <tipo_matricula>Matricula ordinaria</tipo_matricula>\n",
    "  </pago>\n",
    "</matricula>\n",
    "```"
   ]
  },
  {
   "cell_type": "markdown",
   "metadata": {
    "vscode": {
     "languageId": "xml"
    }
   },
   "source": [
    "> Solución:\n",
    "\n",
    "```xml\n",
    "<!DOCTYPE matricula [\n",
    "  <!ELEMENT matricula (personal,pago)>\n",
    "  <!ELEMENT personal (dni,nombre,titulacion,curso_academico,domicilios)>\n",
    "  <!ELEMENT dni (#PCDATA)>\n",
    "  <!ELEMENT nombre (#PCDATA)>\n",
    "  <!ELEMENT titulacion (#PCDATA)>\n",
    "  <!ELEMENT curso_academico (#PCDATA)>\n",
    "  <!ELEMENT domicilios (domicilio+)>\n",
    "  <!ELEMENT domicilio (nombre)>\n",
    "  <!ATTLIST domicilio tipo (familiar | habitual) #REQUIRED>\n",
    "  <!ELEMENT pago (tipo_matricula)>\n",
    "  <!ELEMENT tipo_matricula (#PCDATA)>\n",
    "]>\n",
    "<matricula>\n",
    "  <personal>\n",
    "    <dni>79251856A</dni>\n",
    "    <nombre>Juan pedro martin</nombre>\n",
    "    <titulacion>Ingenieria Infomática</titulacion>\n",
    "    <curso_academico>Ingenieria Infomática</curso_academico>\n",
    "    <domicilios>\n",
    "      <domicilio tipo=\"familiar\">\n",
    "        <nombre>C/ ramon y cajal, 11</nombre>\n",
    "      </domicilio>\n",
    "      <domicilio tipo=\"habitual\">\n",
    "        <nombre>C/ montera, 30</nombre>\n",
    "      </domicilio>\n",
    "    </domicilios>\n",
    "  </personal>\n",
    "  <pago>\n",
    "    <tipo_matricula>Matricula ordinaria</tipo_matricula>\n",
    "  </pago>\n",
    "</matricula>\n",
    "```"
   ]
  },
  {
   "cell_type": "markdown",
   "metadata": {},
   "source": [
    "### Ejericio 5\n",
    "\n",
    "El siguiente documento XML  está bien formado. Sin embargo, no es válido. Para que lo sea, realizar los cambios necesarios en dicho documento, **pero sin modificar la DTD interna**.\n",
    "\n",
    "El XML a validar es el siguiente:\n",
    "\n",
    "```xml\n",
    "<?xml version=\"1.0\" encoding=\"UTF-8\"?>\n",
    "<!DOCTYPE mesa [\n",
    "   <!ELEMENT mesa ANY>\n",
    "   <!ELEMENT material (#PCDATA)>\n",
    "   <!ELEMENT color (#PCDATA)>\n",
    "]>\n",
    "\n",
    "<mesa>La mesa de <material>madera es de color <color>marrón</color></material>.</mesa>\n",
    "\n",
    "```"
   ]
  },
  {
   "cell_type": "markdown",
   "metadata": {
    "vscode": {
     "languageId": "xml"
    }
   },
   "source": [
    "> Solución:\n",
    "\n",
    "```xml\n",
    "<?xml version=\"1.0\" encoding=\"UTF-8\"?>\n",
    "<!DOCTYPE mesa [\n",
    "  <!ELEMENT mesa ANY>\n",
    "  <!ELEMENT material (#PCDATA)>\n",
    "  <!ELEMENT color (#PCDATA)>\n",
    "]>\n",
    "\n",
    "<mesa>\n",
    "  <material>madera</material>\n",
    "  <color>marrón</color>\n",
    "</mesa>\n",
    "```"
   ]
  },
  {
   "cell_type": "markdown",
   "metadata": {},
   "source": [
    "### Ejericio 6\n",
    "\n",
    "El siguiente documento XML  está bien formado.<br>\n",
    "Sin embargo, no es válido. Para que lo sea, realizar los cambios necesarios en dicho documento **modificando la DTD interna**.\n",
    "\n",
    "\n",
    "Aplica las siguientes reglas:\n",
    "- La propiedad posición puede contener cualquier información y estructura.\n",
    "\n",
    "El XML a validar es el siguiente:\n",
    "\n",
    "```xml\n",
    "<?xml version=\"1.0\" encoding=\"UTF-8\"?>\n",
    "<!DOCTYPE fichas [\n",
    " <!ELEMENT fichas (ficha)+>\n",
    "]>\n",
    "\n",
    "<fichas>\n",
    "  <ficha>\n",
    "    <pais>&spain_default;</pais>\n",
    "    <provincia>&provincia_default;</provincia>\n",
    "    <direccion>...</direccion>\n",
    "    <direccion>...</direccion>\n",
    "    <posicion> madrid<latitud>38.2525</latitud><longitud>-6.225</longitud>\n",
    "    </posicion>\n",
    "  </ficha>\n",
    "</fichas>\n",
    "```"
   ]
  },
  {
   "cell_type": "markdown",
   "metadata": {
    "vscode": {
     "languageId": "xml"
    }
   },
   "source": [
    "> Solución:\n",
    "\n",
    "```xml\n",
    "<?xml version=\"1.0\" encoding=\"UTF-8\"?>\n",
    "<!DOCTYPE fichas [\n",
    "  <!ENTITY spain_default \"esapaña\">\n",
    "  <!ENTITY provincia_default \"badajoz\">\n",
    "  <!ELEMENT fichas (ficha)+>\n",
    "  <!ELEMENT ficha (pais,provincia,direccion*,posicion)>\n",
    "  <!ELEMENT pais (#PCDATA)>\n",
    "  <!ELEMENT provincia (#PCDATA)>\n",
    "  <!ELEMENT direccion (#PCDATA)>\n",
    "  <!ELEMENT posicion ANY>\n",
    "  <!ELEMENT latitud (#PCDATA)>\n",
    "  <!ELEMENT longitud (#PCDATA)>\n",
    "]>\n",
    "\n",
    "<fichas>\n",
    "  <ficha>\n",
    "    <pais>&spain_default;</pais>\n",
    "    <provincia>&provincia_default;</provincia>\n",
    "    <direccion>...</direccion>\n",
    "    <direccion>...</direccion>\n",
    "    <posicion> madrid<latitud>38.2525</latitud><longitud>-6.225</longitud>\n",
    "    </posicion>\n",
    "  </ficha>\n",
    "</fichas>\n",
    "```"
   ]
  },
  {
   "cell_type": "markdown",
   "metadata": {},
   "source": [
    "### Ejericio 7\n",
    "\n",
    "Según este XML define un DTD que lo valide siguiendo las reglas:<br>\n",
    "- El atributo tipo de domicilio es requerido\n",
    "- Toda las demás reglas se pueden inferir del XML\n",
    "- **El DTD debe ser interno**\n",
    "\n",
    "```xml\n",
    "<matricula>\n",
    "  <personal>\n",
    "    <dni>79251856A</dni>\n",
    "    <nombre>Juan pedro martin</nombre>\n",
    "    <titulacion>Ingenieria Infomática</titulacion>\n",
    "    <curso_academico>Ingenieria Infomática</curso_academico>\n",
    "    <domicilios>\n",
    "      <domicilio tipo=\"familiar\">\n",
    "        <nombre>C/ ramon y cajal, 11</nombre>\n",
    "      </domicilio>\n",
    "      <domicilio tipo=\"habitual\">\n",
    "        <nombre>C/ montera, 30</nombre>\n",
    "      </domicilio>\n",
    "    </domicilios>\n",
    "  </personal>\n",
    "  <pago>\n",
    "    <tipo_matricula>Matricula ordinaria</tipo_matricula>\n",
    "  </pago>\n",
    "</matricula>\n",
    "\n",
    "```\n"
   ]
  },
  {
   "cell_type": "markdown",
   "metadata": {
    "vscode": {
     "languageId": "xml"
    }
   },
   "source": [
    "> Solución:\n",
    "\n",
    "```xml\n",
    "<?xml version=\"1.0\" encoding=\"UTF-8\"?>\n",
    "<!DOCTYPE matricula [\n",
    "  <!ELEMENT matricula (personal,pago)>\n",
    "  <!ELEMENT personal (dni,nombre,titulacion,curso_academico,domicilios)>\n",
    "  <!ELEMENT dni (#PCDATA)>\n",
    "  <!ELEMENT nombre (#PCDATA)>\n",
    "  <!ELEMENT titulacion (#PCDATA)>\n",
    "  <!ELEMENT curso_academico (#PCDATA)>\n",
    "  <!ELEMENT domicilios (domicilio+)>\n",
    "  <!ELEMENT domicilio (nombre)>\n",
    "  <!ATTLIST domicilio tipo (familiar | habitual) #REQUIRED>\n",
    "  <!ELEMENT pago (tipo_matricula)>\n",
    "  <!ELEMENT tipo_matricula (#PCDATA)>\n",
    "]>\n",
    "\n",
    "<matricula>\n",
    "  <personal>\n",
    "    <dni>79251856A</dni>\n",
    "    <nombre>Juan pedro martin</nombre>\n",
    "    <titulacion>Ingenieria Infomática</titulacion>\n",
    "    <curso_academico>Ingenieria Infomática</curso_academico>\n",
    "    <domicilios>\n",
    "      <domicilio tipo=\"familiar\">\n",
    "        <nombre>C/ ramon y cajal, 11</nombre>\n",
    "      </domicilio>\n",
    "      <domicilio tipo=\"habitual\">\n",
    "        <nombre>C/ montera, 30</nombre>\n",
    "      </domicilio>\n",
    "    </domicilios>\n",
    "  </personal>\n",
    "  <pago>\n",
    "    <tipo_matricula>Matricula ordinaria</tipo_matricula>\n",
    "  </pago>\n",
    "</matricula>\n",
    "```"
   ]
  },
  {
   "cell_type": "markdown",
   "metadata": {},
   "source": [
    "### Ejercicio 8\n",
    "\n",
    "Según este XML que se incluye en el enlace, define un DTD que lo valide siguiendo las reglas:<br>\n",
    "- Cada país tiene un nombre, población y área. Algunos ‘country’ también tienen lenguajes (con % de la población que habla ese lenguaje) y/o ciudades (con nombres y poblaciones).\n",
    "- Los atributos name, population y área de country son obligatorios.\n",
    "- El atributo porcentaje de language es obligatorio.\n",
    "\n",
    "[En este enlace se incluye el XML](https://prod-c2g.s3.amazonaws.com/db/Winter2013/files/countries.xml)"
   ]
  },
  {
   "cell_type": "markdown",
   "metadata": {
    "vscode": {
     "languageId": "xml"
    }
   },
   "source": [
    "> Solución:\n",
    "\n",
    "```xml\n",
    "<!ELEMENT countries (country+)>\n",
    "\n",
    "<!ELEMENT country (city*,language*)>\n",
    "<!ATTLIST country name CDATA #REQUIRED>\n",
    "<!ATTLIST country population CDATA #REQUIRED>\n",
    "<!ATTLIST country area CDATA #REQUIRED>\n",
    "\n",
    "<!ELEMENT language (#PCDATA)>\n",
    "<!ATTLIST language percentage CDATA #REQUIRED>\n",
    "\n",
    "<!ELEMENT city (name,population)>\n",
    "<!ELEMENT name (#PCDATA)>\n",
    "<!ELEMENT population (#PCDATA)>\n",
    "```"
   ]
  }
 ],
 "metadata": {
  "language_info": {
   "name": "python"
  }
 },
 "nbformat": 4,
 "nbformat_minor": 2
}
