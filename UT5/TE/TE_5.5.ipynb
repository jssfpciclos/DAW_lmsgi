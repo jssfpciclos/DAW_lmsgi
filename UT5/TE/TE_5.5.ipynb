{
 "cells": [
  {
   "cell_type": "markdown",
   "metadata": {},
   "source": [
    "# Ejercicios clase. A5.4\n",
    "\n",
    "### Ejercicios XQuery\n",
    "\n",
    "**Entrega**\n",
    "\n",
    "La entrega se realizará en este mismo documento incluyendo las consultas XPath y XQuery realizadas.\n",
    "\n",
    "**Recursos**\n",
    "- Apuntes: Para la realización de estos ejercicios utilizar la documentación colgada en el aula virtual (moodle) de la asignatura.\n"
   ]
  },
  {
   "cell_type": "markdown",
   "metadata": {},
   "source": [
    "### Ejercicios"
   ]
  },
  {
   "cell_type": "markdown",
   "metadata": {},
   "source": [
    "### Generar HTML\n",
    "\n",
    "Estos ejercicios siguientes hay que utilizar el fichero [movies.xml](res/movies.xml) para realizar las consultas."
   ]
  },
  {
   "cell_type": "markdown",
   "metadata": {
    "vscode": {
     "languageId": "xml"
    }
   },
   "source": [
    "1. Muestra en forma de lista (HTML) el nombre de todas las peliculas en el cual el `imdb` raing > 7.0"
   ]
  },
  {
   "cell_type": "code",
   "execution_count": null,
   "metadata": {
    "vscode": {
     "languageId": "html"
    }
   },
   "outputs": [],
   "source": [
    "<ul>\n",
    "  {\n",
    "    for $x in /movies/movie\n",
    "    where $x/imdb > 7.0\n",
    "    order by $x/imdb descending\n",
    "    return <li><a href=\"#\">{data($x/name)}</a></li>\n",
    "  }\n",
    "</ul>"
   ]
  },
  {
   "cell_type": "code",
   "execution_count": null,
   "metadata": {
    "vscode": {
     "languageId": "xml"
    }
   },
   "outputs": [],
   "source": [
    "# Copia aquí el resultado de la consulta\n",
    "<ul>\n",
    "  <li>\n",
    "    <a href=\"#\">Spider Man No Way Home</a>\n",
    "  </li>\n",
    "  <li>\n",
    "    <a href=\"#\">Shershaah</a>\n",
    "  </li>\n",
    "  <li>\n",
    "    <a href=\"#\">Karnan</a>\n",
    "  </li>\n",
    "</ul>"
   ]
  },
  {
   "cell_type": "markdown",
   "metadata": {},
   "source": [
    "2. Genera un <div> que contenga todas las peliculas `Antlers`.  Para cada pelicula muestra el siguiente formato:\n",
    "  \n",
    "  ```html\n",
    "  <div>\n",
    "    <h1>Titulo</h1>\n",
    "    <div>\n",
    "      <p>{texto-fecha-lanzamiento}</p>\n",
    "      <p>{texto-pais}}</p>\n",
    "      <p>{imdb raing}</p>\n",
    "      <p>{boxoffice}</p>\n",
    "    </div>\n",
    "  </div>\n",
    "  ```"
   ]
  },
  {
   "cell_type": "code",
   "execution_count": null,
   "metadata": {
    "vscode": {
     "languageId": "html"
    }
   },
   "outputs": [],
   "source": []
  },
  {
   "cell_type": "code",
   "execution_count": null,
   "metadata": {},
   "outputs": [],
   "source": []
  },
  {
   "cell_type": "markdown",
   "metadata": {},
   "source": [
    "3. Muestra un lista de las actrices, ordenadas por edad, y crea otra sublista con las peliculas en las que ha participado.  Para cada actriz muestra el siguiente formato:\n",
    "\n",
    "  ```html\n",
    "  <ul>\n",
    "    <li>\n",
    "      <h3>{actriz nombre}</h3>\n",
    "      <div>\n",
    "        <p>edad: {actriz edad}</p>\n",
    "        <ul>\n",
    "          <li>{pelicula-nombre-1}</li>\n",
    "          <li>{pelicula-nombre-2}</li>\n",
    "          <li>...</li>\n",
    "        </ul>\n",
    "      </div>\n",
    "     </li> \n",
    "  </ul>\n",
    "  ```"
   ]
  },
  {
   "cell_type": "code",
   "execution_count": null,
   "metadata": {},
   "outputs": [],
   "source": []
  },
  {
   "cell_type": "code",
   "execution_count": null,
   "metadata": {
    "vscode": {
     "languageId": "xpath"
    }
   },
   "outputs": [],
   "source": []
  },
  {
   "cell_type": "code",
   "execution_count": null,
   "metadata": {},
   "outputs": [],
   "source": []
  },
  {
   "cell_type": "markdown",
   "metadata": {},
   "source": [
    "4. Muestra información de los paises que ha producido peliculas y muestra la información del pais, el numero de peliculas y los actores y actrices que han parcicipado en ellas.  Para cada pais muestra el siguiente formato:\n",
    "\n",
    "  ```html\n",
    "  <div>\n",
    "    <h2>{pais}</h2>\n",
    "    <div>\n",
    "      <p>{numero-peliculas}</p>\n",
    "      <ul>\n",
    "        <li>{actor-actriz-1}</li>\n",
    "        <li>{actor-actriz-2}</li>\n",
    "        <li>...</li>\n",
    "      </ul>\n",
    "    </div>\n",
    "  </div>\n",
    "  ```"
   ]
  },
  {
   "cell_type": "code",
   "execution_count": null,
   "metadata": {
    "vscode": {
     "languageId": "xpath"
    }
   },
   "outputs": [],
   "source": []
  },
  {
   "cell_type": "code",
   "execution_count": null,
   "metadata": {},
   "outputs": [],
   "source": []
  },
  {
   "cell_type": "markdown",
   "metadata": {},
   "source": [
    "5. Muestra las peliculas agrupadas por idioma. Para cada pelicula en ese idioma, muestra el siguiente formato:\n",
    "\n",
    "  ```html\n",
    "  <div>\n",
    "    <h2>{idioma}</h2>\n",
    "    <p>Ratings medio: {rating-medio}</p>\n",
    "    <ul>\n",
    "      <li>{pelicula-1}</li>\n",
    "      <li>{pelicula-2}</li>\n",
    "      <li>...</li>\n",
    "    </ul>\n",
    "  </div>\n",
    "  ```"
   ]
  },
  {
   "cell_type": "code",
   "execution_count": null,
   "metadata": {
    "vscode": {
     "languageId": "xpath"
    }
   },
   "outputs": [],
   "source": []
  },
  {
   "cell_type": "code",
   "execution_count": null,
   "metadata": {},
   "outputs": [],
   "source": []
  },
  {
   "cell_type": "markdown",
   "metadata": {},
   "source": [
    "6. Muestra una lista con todos los actores y actrices, y para cada uno muestra, edad, numero de peliculas, total paises de las peliculas en los que ha participado, y el rating imdb medio de las mismas. Para cada actor/actriz muestra el siguiente formato:\n",
    "\n",
    "  ```html\n",
    "  <ul>\n",
    "    <li>\n",
    "      <h3>{actor-actriz}</h3>\n",
    "      <div>\n",
    "        <p>edad: {edad}</p>\n",
    "        <p>numero peliculas: {numero-peliculas}</p>\n",
    "        <p>total paises: {total-paises}</p>\n",
    "        <p>rating medio: {rating-medio}</p>\n",
    "      </div>\n",
    "    </li>\n",
    "  </ul>\n",
    "  ```"
   ]
  },
  {
   "cell_type": "markdown",
   "metadata": {},
   "source": [
    "### XPath y XQuery\n",
    "\n",
    "Estos ejercicios siguientes hay que utilizar el fichero [World countries](res/countries_xpath.xml)\n",
    "\n",
    "**Consejos**\n",
    "\n"
   ]
  },
  {
   "cell_type": "markdown",
   "metadata": {},
   "source": [
    "1. Retorna los nombres de todas las ciudades que tiene el mismo nombre como el pais en el cual están situadas."
   ]
  },
  {
   "cell_type": "code",
   "execution_count": null,
   "metadata": {
    "vscode": {
     "languageId": "xpath"
    }
   },
   "outputs": [],
   "source": []
  },
  {
   "cell_type": "code",
   "execution_count": null,
   "metadata": {},
   "outputs": [],
   "source": []
  },
  {
   "cell_type": "markdown",
   "metadata": {},
   "source": []
  },
  {
   "cell_type": "markdown",
   "metadata": {},
   "source": [
    "2. Retorna la población media de las ciudades que hablan ruso"
   ]
  },
  {
   "cell_type": "code",
   "execution_count": null,
   "metadata": {
    "vscode": {
     "languageId": "xpath"
    }
   },
   "outputs": [],
   "source": []
  },
  {
   "cell_type": "code",
   "execution_count": null,
   "metadata": {},
   "outputs": [],
   "source": []
  },
  {
   "cell_type": "markdown",
   "metadata": {},
   "source": [
    "3. Selecciona nombre de todas las peliculas en el que el actor `a0001` haya participado"
   ]
  },
  {
   "cell_type": "raw",
   "metadata": {
    "vscode": {
     "languageId": "xml"
    }
   },
   "source": []
  },
  {
   "cell_type": "code",
   "execution_count": null,
   "metadata": {},
   "outputs": [],
   "source": []
  },
  {
   "cell_type": "markdown",
   "metadata": {},
   "source": [
    "4. Retorna los nombres de todos los paises que tienen al menos 3 ciudades con población mayor de 3 millones de habitantes"
   ]
  },
  {
   "cell_type": "raw",
   "metadata": {},
   "source": []
  },
  {
   "cell_type": "code",
   "execution_count": null,
   "metadata": {},
   "outputs": [],
   "source": []
  },
  {
   "cell_type": "markdown",
   "metadata": {},
   "source": [
    "5. Crea una lista de paises que hablen Frances y Aleman, el resultado debería ser en la forma:\n",
    "\n",
    "  ```xml\n",
    "<result>\n",
    "  <French>\n",
    "    <country>country-name</country>\n",
    "    <country>country-name</country>\n",
    "    ...\n",
    "  </French>\n",
    "  <German>\n",
    "    <country>country-name</country>\n",
    "    <country>country-name</country>\n",
    "    ...\n",
    "  </German>\n",
    "</result>\n",
    "  ```"
   ]
  },
  {
   "cell_type": "raw",
   "metadata": {},
   "source": []
  },
  {
   "cell_type": "code",
   "execution_count": null,
   "metadata": {},
   "outputs": [],
   "source": []
  },
  {
   "cell_type": "markdown",
   "metadata": {},
   "source": [
    "6. Retorna los paises con los mayores y menores densidad de población. El resultado debería tomar la siguiente forma:\n",
    "   **Nota**: \n",
    "   - El operador `/` no funciona en XQuery, hay que utilizar `div` para hacer la división.\n",
    "   - Para computar la densidad de población, hay que utilizar la siguiente fórmula: `population div area`\n",
    "  \n",
    "```xml\n",
    "<result>\n",
    "  <highest density=\"value\">country-name</highest>\n",
    "  <lowest density=\"value\">country-name</lowest>\n",
    "</result>\n",
    "```"
   ]
  },
  {
   "cell_type": "raw",
   "metadata": {},
   "source": []
  },
  {
   "cell_type": "code",
   "execution_count": null,
   "metadata": {},
   "outputs": [],
   "source": []
  },
  {
   "cell_type": "markdown",
   "metadata": {},
   "source": [
    "7. Retorna los pares pais-idioma donde el idioma es hablado en el pais y el nombre del pais contiene el nombre del idioma. \n",
    "   Retorna cada par como un elemento pais con el idioma atributo. Ej: <country language=\"French\">French Guiana</country>"
   ]
  },
  {
   "cell_type": "raw",
   "metadata": {},
   "source": []
  },
  {
   "cell_type": "code",
   "execution_count": null,
   "metadata": {},
   "outputs": [],
   "source": []
  },
  {
   "cell_type": "markdown",
   "metadata": {},
   "source": [
    "8. Retorna todas las ciudades que tienen al mnos una ciudad con población mayor de 7 milliones. Para cada uno, retorna el nombre del pais junto con las ciudades mauores de 7 millones, en el siguiente formato:\n",
    "\n",
    "```xml\n",
    "<country name=\"country-name\">\n",
    "  <big>city-name</big>\n",
    "  <big>city-name</big>\n",
    "  ...\n",
    "</country>\n",
    "```"
   ]
  },
  {
   "cell_type": "raw",
   "metadata": {},
   "source": []
  },
  {
   "cell_type": "code",
   "execution_count": null,
   "metadata": {},
   "outputs": [],
   "source": []
  },
  {
   "cell_type": "markdown",
   "metadata": {},
   "source": [
    "9. Retorna los nombres de todas las ciudades donde más del 50% de la población habla Aleman. "
   ]
  },
  {
   "cell_type": "raw",
   "metadata": {},
   "source": []
  },
  {
   "cell_type": "code",
   "execution_count": null,
   "metadata": {},
   "outputs": [],
   "source": []
  }
 ],
 "metadata": {
  "kernelspec": {
   "display_name": "Python 3",
   "language": "python",
   "name": "python3"
  },
  "language_info": {
   "codemirror_mode": {
    "name": "ipython",
    "version": 3
   },
   "file_extension": ".py",
   "mimetype": "text/x-python",
   "name": "python",
   "nbconvert_exporter": "python",
   "pygments_lexer": "ipython3",
   "version": "3.9.13"
  }
 },
 "nbformat": 4,
 "nbformat_minor": 2
}
